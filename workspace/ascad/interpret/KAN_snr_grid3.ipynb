{
 "cells": [
  {
   "cell_type": "markdown",
   "metadata": {},
   "source": [
    "Plot trained KAN and set linear function on input activations (and fine-tune)"
   ]
  },
  {
   "cell_type": "code",
   "execution_count": null,
   "metadata": {},
   "outputs": [],
   "source": [
    "# Choose dataset to plot/symbolic fitting\n",
    "# ASCADf | ASCADv\n",
    "ds = 'ASCADf'"
   ]
  },
  {
   "cell_type": "markdown",
   "metadata": {},
   "source": [
    "----- Program codes ----"
   ]
  },
  {
   "cell_type": "code",
   "execution_count": 1,
   "metadata": {},
   "outputs": [],
   "source": [
    "import torch\n",
    "from pathlib import Path\n",
    "import os\n",
    "import hydra\n",
    "import numpy as np\n",
    "import matplotlib.pyplot as plt\n",
    "import pickle\n",
    "\n",
    "os.chdir('/workspace')\n",
    "import src"
   ]
  },
  {
   "cell_type": "code",
   "execution_count": 2,
   "metadata": {},
   "outputs": [],
   "source": [
    "if ds == 'ASCADf':\n",
    "    pt = \"[[156, 157, 1],[517, 518, 1]]\"\n",
    "elif ds == 'ASCADv':\n",
    "    pt = \"[[188, 189, 1],[1071, 1072, 1]]\""
   ]
  },
  {
   "cell_type": "code",
   "execution_count": 3,
   "metadata": {},
   "outputs": [],
   "source": [
    "with hydra.initialize(config_path=\"../../conf\", version_base='1.1'):\n",
    "    cfg = hydra.compose(\n",
    "        config_name='config',\n",
    "        overrides=[\n",
    "            \"model=KAN1h\",\n",
    "            \"model.model.width.1=1\",\n",
    "            \"model.model.grid=3\",\n",
    "            \"model.model.k=3\",\n",
    "            \"model.train_params.steps=3000\",\n",
    "            f\"dataset@train={ds}_profiling\",\n",
    "            f\"dataset@test={ds}_attack\",\n",
    "            \"trace_transforms=set_poi\",\n",
    "            f\"trace_transforms.transforms.0.pois={pt}\",\n",
    "            \"trace_transforms.output_size=2\",\n",
    "            \"label_transforms=bit\",\n",
    "            \"label_transforms.transforms.3.pos=0\",\n",
    "            f\"save_path=/workspace/results/ascad/KAN_{ds}_snr/0\",\n",
    "            \"n_attack_traces=2000\"\n",
    "            ]\n",
    "        )"
   ]
  },
  {
   "cell_type": "code",
   "execution_count": 4,
   "metadata": {},
   "outputs": [],
   "source": [
    "device = hydra.utils.instantiate(cfg.device)\n",
    "cpu = torch.device('cpu')"
   ]
  },
  {
   "cell_type": "markdown",
   "metadata": {},
   "source": [
    "Setup dataset"
   ]
  },
  {
   "cell_type": "code",
   "execution_count": 5,
   "metadata": {},
   "outputs": [],
   "source": [
    "profiling_dataset = hydra.utils.instantiate(cfg.train.dataset)\n",
    "test_dataset = hydra.utils.instantiate(cfg.test.dataset)\n",
    "\n",
    "train_dataloader = torch.utils.data.DataLoader(\n",
    "    profiling_dataset, batch_size=cfg.train.batch_size, shuffle=True\n",
    ")\n",
    "test_dataloader = torch.utils.data.DataLoader(\n",
    "    test_dataset, batch_size=cfg.test.batch_size, shuffle=False\n",
    ")\n",
    "KANds = src.utils.to_KAN_dataset(\n",
    "    train_dataloader, test_dataloader,\n",
    "    device=device)"
   ]
  },
  {
   "cell_type": "markdown",
   "metadata": {},
   "source": [
    "Train KAN"
   ]
  },
  {
   "cell_type": "code",
   "execution_count": 6,
   "metadata": {},
   "outputs": [
    {
     "ename": "RuntimeError",
     "evalue": "Error(s) in loading state_dict for KAN:\n\tsize mismatch for biases.0.weight: copying a param with shape torch.Size([1, 2]) from checkpoint, the shape in current model is torch.Size([1, 1]).\n\tsize mismatch for act_fun.0.grid: copying a param with shape torch.Size([4, 4]) from checkpoint, the shape in current model is torch.Size([2, 4]).\n\tsize mismatch for act_fun.0.coef: copying a param with shape torch.Size([4, 6]) from checkpoint, the shape in current model is torch.Size([2, 6]).\n\tsize mismatch for act_fun.0.scale_base: copying a param with shape torch.Size([4]) from checkpoint, the shape in current model is torch.Size([2]).\n\tsize mismatch for act_fun.0.scale_sp: copying a param with shape torch.Size([4]) from checkpoint, the shape in current model is torch.Size([2]).\n\tsize mismatch for act_fun.0.mask: copying a param with shape torch.Size([4]) from checkpoint, the shape in current model is torch.Size([2]).\n\tsize mismatch for act_fun.1.grid: copying a param with shape torch.Size([4, 4]) from checkpoint, the shape in current model is torch.Size([2, 4]).\n\tsize mismatch for act_fun.1.coef: copying a param with shape torch.Size([4, 6]) from checkpoint, the shape in current model is torch.Size([2, 6]).\n\tsize mismatch for act_fun.1.scale_base: copying a param with shape torch.Size([4]) from checkpoint, the shape in current model is torch.Size([2]).\n\tsize mismatch for act_fun.1.scale_sp: copying a param with shape torch.Size([4]) from checkpoint, the shape in current model is torch.Size([2]).\n\tsize mismatch for act_fun.1.mask: copying a param with shape torch.Size([4]) from checkpoint, the shape in current model is torch.Size([2]).\n\tsize mismatch for symbolic_fun.0.mask: copying a param with shape torch.Size([2, 2]) from checkpoint, the shape in current model is torch.Size([1, 2]).\n\tsize mismatch for symbolic_fun.0.affine: copying a param with shape torch.Size([2, 2, 4]) from checkpoint, the shape in current model is torch.Size([1, 2, 4]).\n\tsize mismatch for symbolic_fun.1.mask: copying a param with shape torch.Size([2, 2]) from checkpoint, the shape in current model is torch.Size([2, 1]).\n\tsize mismatch for symbolic_fun.1.affine: copying a param with shape torch.Size([2, 2, 4]) from checkpoint, the shape in current model is torch.Size([2, 1, 4]).",
     "output_type": "error",
     "traceback": [
      "\u001b[0;31m---------------------------------------------------------------------------\u001b[0m",
      "\u001b[0;31mRuntimeError\u001b[0m                              Traceback (most recent call last)",
      "Cell \u001b[0;32mIn[6], line 2\u001b[0m\n\u001b[1;32m      1\u001b[0m model \u001b[38;5;241m=\u001b[39m hydra\u001b[38;5;241m.\u001b[39mutils\u001b[38;5;241m.\u001b[39minstantiate(cfg\u001b[38;5;241m.\u001b[39mmodel\u001b[38;5;241m.\u001b[39mmodel)\n\u001b[0;32m----> 2\u001b[0m \u001b[43mmodel\u001b[49m\u001b[38;5;241;43m.\u001b[39;49m\u001b[43mload_ckpt\u001b[49m\u001b[43m(\u001b[49m\u001b[43mcfg\u001b[49m\u001b[38;5;241;43m.\u001b[39;49m\u001b[43mmodel_name\u001b[49m\u001b[38;5;241;43m+\u001b[39;49m\u001b[38;5;124;43m'\u001b[39;49m\u001b[38;5;124;43m.ckpt\u001b[39;49m\u001b[38;5;124;43m'\u001b[39;49m\u001b[43m,\u001b[49m\u001b[43m \u001b[49m\u001b[43mcfg\u001b[49m\u001b[38;5;241;43m.\u001b[39;49m\u001b[43msave_path\u001b[49m\u001b[43m)\u001b[49m\n\u001b[1;32m      3\u001b[0m model \u001b[38;5;241m=\u001b[39m model\u001b[38;5;241m.\u001b[39mto(device)\n",
      "File \u001b[0;32m/opt/conda/lib/python3.10/site-packages/kan/KAN.py:1316\u001b[0m, in \u001b[0;36mKAN.load_ckpt\u001b[0;34m(self, name, folder)\u001b[0m\n\u001b[1;32m   1301\u001b[0m \u001b[38;5;28;01mdef\u001b[39;00m \u001b[38;5;21mload_ckpt\u001b[39m(\u001b[38;5;28mself\u001b[39m, name, folder\u001b[38;5;241m=\u001b[39m\u001b[38;5;124m'\u001b[39m\u001b[38;5;124m./model_ckpt\u001b[39m\u001b[38;5;124m'\u001b[39m):\n\u001b[1;32m   1302\u001b[0m \u001b[38;5;250m    \u001b[39m\u001b[38;5;124;03m'''\u001b[39;00m\n\u001b[1;32m   1303\u001b[0m \u001b[38;5;124;03m    load a checkpoint to the current model\u001b[39;00m\n\u001b[1;32m   1304\u001b[0m \u001b[38;5;124;03m    \u001b[39;00m\n\u001b[0;32m   (...)\u001b[0m\n\u001b[1;32m   1314\u001b[0m \u001b[38;5;124;03m        None\u001b[39;00m\n\u001b[1;32m   1315\u001b[0m \u001b[38;5;124;03m    '''\u001b[39;00m\n\u001b[0;32m-> 1316\u001b[0m     \u001b[38;5;28;43mself\u001b[39;49m\u001b[38;5;241;43m.\u001b[39;49m\u001b[43mload_state_dict\u001b[49m\u001b[43m(\u001b[49m\u001b[43mtorch\u001b[49m\u001b[38;5;241;43m.\u001b[39;49m\u001b[43mload\u001b[49m\u001b[43m(\u001b[49m\u001b[43mfolder\u001b[49m\u001b[43m \u001b[49m\u001b[38;5;241;43m+\u001b[39;49m\u001b[43m \u001b[49m\u001b[38;5;124;43m'\u001b[39;49m\u001b[38;5;124;43m/\u001b[39;49m\u001b[38;5;124;43m'\u001b[39;49m\u001b[43m \u001b[49m\u001b[38;5;241;43m+\u001b[39;49m\u001b[43m \u001b[49m\u001b[43mname\u001b[49m\u001b[43m)\u001b[49m\u001b[43m)\u001b[49m\n",
      "File \u001b[0;32m/opt/conda/lib/python3.10/site-packages/torch/nn/modules/module.py:2189\u001b[0m, in \u001b[0;36mModule.load_state_dict\u001b[0;34m(self, state_dict, strict, assign)\u001b[0m\n\u001b[1;32m   2184\u001b[0m         error_msgs\u001b[38;5;241m.\u001b[39minsert(\n\u001b[1;32m   2185\u001b[0m             \u001b[38;5;241m0\u001b[39m, \u001b[38;5;124m'\u001b[39m\u001b[38;5;124mMissing key(s) in state_dict: \u001b[39m\u001b[38;5;132;01m{}\u001b[39;00m\u001b[38;5;124m. \u001b[39m\u001b[38;5;124m'\u001b[39m\u001b[38;5;241m.\u001b[39mformat(\n\u001b[1;32m   2186\u001b[0m                 \u001b[38;5;124m'\u001b[39m\u001b[38;5;124m, \u001b[39m\u001b[38;5;124m'\u001b[39m\u001b[38;5;241m.\u001b[39mjoin(\u001b[38;5;124mf\u001b[39m\u001b[38;5;124m'\u001b[39m\u001b[38;5;124m\"\u001b[39m\u001b[38;5;132;01m{\u001b[39;00mk\u001b[38;5;132;01m}\u001b[39;00m\u001b[38;5;124m\"\u001b[39m\u001b[38;5;124m'\u001b[39m \u001b[38;5;28;01mfor\u001b[39;00m k \u001b[38;5;129;01min\u001b[39;00m missing_keys)))\n\u001b[1;32m   2188\u001b[0m \u001b[38;5;28;01mif\u001b[39;00m \u001b[38;5;28mlen\u001b[39m(error_msgs) \u001b[38;5;241m>\u001b[39m \u001b[38;5;241m0\u001b[39m:\n\u001b[0;32m-> 2189\u001b[0m     \u001b[38;5;28;01mraise\u001b[39;00m \u001b[38;5;167;01mRuntimeError\u001b[39;00m(\u001b[38;5;124m'\u001b[39m\u001b[38;5;124mError(s) in loading state_dict for \u001b[39m\u001b[38;5;132;01m{}\u001b[39;00m\u001b[38;5;124m:\u001b[39m\u001b[38;5;130;01m\\n\u001b[39;00m\u001b[38;5;130;01m\\t\u001b[39;00m\u001b[38;5;132;01m{}\u001b[39;00m\u001b[38;5;124m'\u001b[39m\u001b[38;5;241m.\u001b[39mformat(\n\u001b[1;32m   2190\u001b[0m                        \u001b[38;5;28mself\u001b[39m\u001b[38;5;241m.\u001b[39m\u001b[38;5;18m__class__\u001b[39m\u001b[38;5;241m.\u001b[39m\u001b[38;5;18m__name__\u001b[39m, \u001b[38;5;124m\"\u001b[39m\u001b[38;5;130;01m\\n\u001b[39;00m\u001b[38;5;130;01m\\t\u001b[39;00m\u001b[38;5;124m\"\u001b[39m\u001b[38;5;241m.\u001b[39mjoin(error_msgs)))\n\u001b[1;32m   2191\u001b[0m \u001b[38;5;28;01mreturn\u001b[39;00m _IncompatibleKeys(missing_keys, unexpected_keys)\n",
      "\u001b[0;31mRuntimeError\u001b[0m: Error(s) in loading state_dict for KAN:\n\tsize mismatch for biases.0.weight: copying a param with shape torch.Size([1, 2]) from checkpoint, the shape in current model is torch.Size([1, 1]).\n\tsize mismatch for act_fun.0.grid: copying a param with shape torch.Size([4, 4]) from checkpoint, the shape in current model is torch.Size([2, 4]).\n\tsize mismatch for act_fun.0.coef: copying a param with shape torch.Size([4, 6]) from checkpoint, the shape in current model is torch.Size([2, 6]).\n\tsize mismatch for act_fun.0.scale_base: copying a param with shape torch.Size([4]) from checkpoint, the shape in current model is torch.Size([2]).\n\tsize mismatch for act_fun.0.scale_sp: copying a param with shape torch.Size([4]) from checkpoint, the shape in current model is torch.Size([2]).\n\tsize mismatch for act_fun.0.mask: copying a param with shape torch.Size([4]) from checkpoint, the shape in current model is torch.Size([2]).\n\tsize mismatch for act_fun.1.grid: copying a param with shape torch.Size([4, 4]) from checkpoint, the shape in current model is torch.Size([2, 4]).\n\tsize mismatch for act_fun.1.coef: copying a param with shape torch.Size([4, 6]) from checkpoint, the shape in current model is torch.Size([2, 6]).\n\tsize mismatch for act_fun.1.scale_base: copying a param with shape torch.Size([4]) from checkpoint, the shape in current model is torch.Size([2]).\n\tsize mismatch for act_fun.1.scale_sp: copying a param with shape torch.Size([4]) from checkpoint, the shape in current model is torch.Size([2]).\n\tsize mismatch for act_fun.1.mask: copying a param with shape torch.Size([4]) from checkpoint, the shape in current model is torch.Size([2]).\n\tsize mismatch for symbolic_fun.0.mask: copying a param with shape torch.Size([2, 2]) from checkpoint, the shape in current model is torch.Size([1, 2]).\n\tsize mismatch for symbolic_fun.0.affine: copying a param with shape torch.Size([2, 2, 4]) from checkpoint, the shape in current model is torch.Size([1, 2, 4]).\n\tsize mismatch for symbolic_fun.1.mask: copying a param with shape torch.Size([2, 2]) from checkpoint, the shape in current model is torch.Size([2, 1]).\n\tsize mismatch for symbolic_fun.1.affine: copying a param with shape torch.Size([2, 2, 4]) from checkpoint, the shape in current model is torch.Size([2, 1, 4])."
     ]
    }
   ],
   "source": [
    "model = hydra.utils.instantiate(cfg.model.model)\n",
    "model.load_ckpt(cfg.model_name+'.ckpt', cfg.save_path)\n",
    "model = model.to(device)"
   ]
  },
  {
   "cell_type": "markdown",
   "metadata": {},
   "source": [
    "Evaluation"
   ]
  },
  {
   "cell_type": "code",
   "execution_count": null,
   "metadata": {},
   "outputs": [],
   "source": [
    "preds, labels, th = src.utils.make_prediction(\n",
    "    model, test_dataloader, device)\n",
    "preds_class = np.argmax(preds, axis=1)\n",
    "accuracy = np.mean(labels == preds_class)\n",
    "print('Accuracy: ', accuracy)"
   ]
  },
  {
   "cell_type": "markdown",
   "metadata": {},
   "source": [
    "Plot trained KAN"
   ]
  },
  {
   "cell_type": "code",
   "execution_count": null,
   "metadata": {},
   "outputs": [],
   "source": [
    "model(KANds['train_input'][:10000])\n",
    "model.plot(folder=cfg.save_path+'/raw')\n",
    "plt.savefig(\n",
    "    Path(cfg.save_path, f'{cfg.model.name}_raw.png'),\n",
    "    dpi=300, bbox_inches=0)\n",
    "src.utils.plot_KAN(cfg, model, 'raw')"
   ]
  },
  {
   "cell_type": "markdown",
   "metadata": {},
   "source": [
    "Set symbolic functions"
   ]
  },
  {
   "cell_type": "code",
   "execution_count": null,
   "metadata": {},
   "outputs": [],
   "source": [
    "model(KANds['test_input'][:10000])\n",
    "model.fix_symbolic(0,0,0, 'x')\n",
    "model.fix_symbolic(0,1,0, 'x')"
   ]
  },
  {
   "cell_type": "markdown",
   "metadata": {},
   "source": [
    "Fine-tuning"
   ]
  },
  {
   "cell_type": "code",
   "execution_count": null,
   "metadata": {},
   "outputs": [],
   "source": [
    "_ = model.train(\n",
    "    KANds,\n",
    "    **hydra.utils.instantiate(cfg.model.train_params)\n",
    "    )"
   ]
  },
  {
   "cell_type": "markdown",
   "metadata": {},
   "source": [
    "Evaluate"
   ]
  },
  {
   "cell_type": "code",
   "execution_count": null,
   "metadata": {},
   "outputs": [],
   "source": [
    "preds, labels, th = src.utils.make_prediction(\n",
    "    model, test_dataloader, device)\n",
    "\n",
    "preds_class = np.argmax(preds, axis=1)\n",
    "accuracy = np.mean(labels == preds_class)\n",
    "print('Accuracy: ', accuracy)"
   ]
  },
  {
   "cell_type": "code",
   "execution_count": null,
   "metadata": {},
   "outputs": [],
   "source": [
    "model(KANds['train_input'][:10000])\n",
    "model.plot(folder=cfg.save_path+'/fixed')\n",
    "plt.savefig(\n",
    "    Path(cfg.save_path, f'{cfg.model.name}_fixed.png'),\n",
    "    dpi=300, bbox_inches=0)\n",
    "src.utils.plot_KAN(cfg, model, 'fixed')"
   ]
  },
  {
   "cell_type": "code",
   "execution_count": null,
   "metadata": {},
   "outputs": [],
   "source": [
    "correct_key = test_dataset.key[0][cfg.target_byte]\n",
    "key_hyposesis = range(256)\n",
    "if not Path(cfg.save_path, 'label_hyposesis.npy').exists():\n",
    "    label_hyposesis = src.utils.make_label_hyposesis(\n",
    "        test_dataset, key_hyposesis)\n",
    "    np.save(Path(cfg.save_path, 'label_hyposesis.npy'), label_hyposesis)\n",
    "label_hyposesis = np.load(Path(cfg.save_path, 'label_hyposesis.npy'))\n",
    "\n",
    "ge = src.sca_utils.calc_guessing_entropy(\n",
    "    preds, label_hyposesis, correct_key,\n",
    "    cfg.n_attack_traces, n_trial=cfg.n_trials)\n",
    "print(np.where(ge==0)[0])"
   ]
  },
  {
   "cell_type": "code",
   "execution_count": null,
   "metadata": {},
   "outputs": [],
   "source": [
    "fig = plt.figure()\n",
    "ax = fig.add_subplot(111)\n",
    "ax.plot(ge)\n",
    "fig.savefig(Path(cfg.save_path, f'{cfg.model.name}_fixed.png'), dpi=300, bbox_inches=0)"
   ]
  },
  {
   "cell_type": "code",
   "execution_count": null,
   "metadata": {},
   "outputs": [],
   "source": []
  }
 ],
 "metadata": {
  "kernelspec": {
   "display_name": "base",
   "language": "python",
   "name": "python3"
  },
  "language_info": {
   "codemirror_mode": {
    "name": "ipython",
    "version": 3
   },
   "file_extension": ".py",
   "mimetype": "text/x-python",
   "name": "python",
   "nbconvert_exporter": "python",
   "pygments_lexer": "ipython3",
   "version": "3.10.14"
  }
 },
 "nbformat": 4,
 "nbformat_minor": 2
}
