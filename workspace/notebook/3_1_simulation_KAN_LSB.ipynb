{
 "cells": [
  {
   "cell_type": "markdown",
   "metadata": {},
   "source": [
    "# Exp.3 Train KAN with simulation data\n",
    "\n",
    "- Dataset: ASCADv1 simulation dataset  \n",
    "    Plain/ciphertext, key, and mask are same as ASCADv1 fixed-key dataset.  \n",
    "    Each sample point is derived from HW($snr$).\n",
    "- PoI: 1~4 pts, combination of $snr2$ to $snr5$\n",
    "- #traces: 50,000 (profiling), 20,000 (attack)\n",
    "- Preprocess: min-max mormalization to [0.0, 1.0]\n",
    "- Labeling: LSB of unmasked SBox output (two class classification)\n",
    "- Loss function: Softmax cross entropy (torch.nn.BCEWithLogitsLoss)\n",
    "- Model architecture: [1~4(Input), 5, 1, 2(Softmax)]  \n",
    "\n",
    "| $snr$ # | Leakage                            |                                         |\n",
    "| ---     | ---                                | ---                                     |\n",
    "| 2       | Masked Sbox Output                 | $SBox(p[3] \\oplus k[3]) \\oplus r_{out}$ |\n",
    "| 3       | Mask of Sbox output                | $r_{out}$                               |\n",
    "| 4       | Masked sbox output in linear part  | $SBox(p[3] \\oplus k[3]) \\oplus r[3]$    |\n",
    "| 5       | Mask of Sbox output in linear part | $r[3]$                                  |"
   ]
  },
  {
   "cell_type": "code",
   "execution_count": 1,
   "metadata": {},
   "outputs": [],
   "source": [
    "import torch\n",
    "from pathlib import Path\n",
    "import os\n",
    "import hydra\n",
    "import numpy as np\n",
    "import matplotlib.pyplot as plt\n",
    "import pickle\n",
    "\n",
    "os.chdir('/workspace')\n",
    "import src"
   ]
  },
  {
   "cell_type": "code",
   "execution_count": 2,
   "metadata": {},
   "outputs": [],
   "source": [
    "def get_cfg(pois, output_size, name):\n",
    "    with hydra.initialize(config_path=\"../conf\", version_base='1.1'):\n",
    "        cfg = hydra.compose(\n",
    "            config_name='config',\n",
    "            overrides=[\n",
    "                \"model=KAN2h\",\n",
    "                \"model.model.width.1=5\",\n",
    "                \"model.model.width.2=1\",\n",
    "                \"model.train_params.steps=7000\",\n",
    "                \"model.name=KAN1h_\"+name,\n",
    "                \"dataset@train=ASCADf_profiling\",\n",
    "                \"dataset@test=ASCADf_attack\",\n",
    "                \"trace_transforms=set_poi\",\n",
    "                \"trace_transforms.transforms.0.pois=\"+pois,\n",
    "                \"trace_transforms.output_size=\"+output_size,\n",
    "                \"label_transforms=bit\",\n",
    "                \"label_transforms.transforms.3.pos=0\",\n",
    "                \"save_path=/workspace/notebook/results/exp3/1\",\n",
    "                \"n_attack_traces=2000\"\n",
    "                ]\n",
    "            )\n",
    "    return cfg"
   ]
  },
  {
   "cell_type": "code",
   "execution_count": 3,
   "metadata": {},
   "outputs": [],
   "source": [
    "def train(cfg):\n",
    "    device = hydra.utils.instantiate(cfg.device)\n",
    "    cpu = torch.device('cpu')\n",
    "\n",
    "    # Dataset\n",
    "    ds_prof = hydra.utils.instantiate(cfg.train.dataset)\n",
    "    ds_test = hydra.utils.instantiate(cfg.test.dataset)\n",
    "\n",
    "    target_byte = 2\n",
    "    profiling_dataset = src.datasets.ASCAD_sim.Dataset(\n",
    "        ds_prof.plaintext,\n",
    "        ds_prof.key,\n",
    "        ds_prof.masks,\n",
    "        target_byte=target_byte,\n",
    "        trace_transforms=hydra.utils.instantiate(\n",
    "            cfg.train.dataset.trace_transforms),\n",
    "        label_transforms=hydra.utils.instantiate(\n",
    "            cfg.train.dataset.label_transforms)\n",
    "        )\n",
    "\n",
    "    test_dataset = src.datasets.ASCAD_sim.Dataset(\n",
    "        ds_test.plaintext,\n",
    "        ds_test.key,\n",
    "        ds_test.masks,\n",
    "        target_byte=target_byte,\n",
    "            trace_transforms=hydra.utils.instantiate(\n",
    "            cfg.train.dataset.trace_transforms),\n",
    "        label_transforms=hydra.utils.instantiate(\n",
    "            cfg.train.dataset.label_transforms)\n",
    "        )\n",
    "\n",
    "    train_dataloader = torch.utils.data.DataLoader(\n",
    "        profiling_dataset, batch_size=cfg.train.batch_size, shuffle=True\n",
    "    )\n",
    "    test_dataloader = torch.utils.data.DataLoader(\n",
    "        test_dataset, batch_size=cfg.test.batch_size, shuffle=False\n",
    "    )\n",
    "    KANds = src.utils.to_KAN_dataset(\n",
    "        train_dataloader, test_dataloader,\n",
    "        device=device)\n",
    "\n",
    "    # Train\n",
    "    model = hydra.utils.instantiate(cfg.model.model)\n",
    "    if not Path(cfg.save_path, cfg.model_name+'.ckpt').exists():\n",
    "        model = model.to(device)\n",
    "        _ = model.train(\n",
    "            KANds,\n",
    "            **hydra.utils.instantiate(cfg.model.train_params)\n",
    "            )\n",
    "        Path(cfg.save_path).mkdir(exist_ok=True, parents=True)\n",
    "        model.to(cpu).save_ckpt(cfg.model_name+'.ckpt', cfg.save_path)\n",
    "    else:\n",
    "        model.load_ckpt(cfg.model_name+'.ckpt', cfg.save_path)\n",
    "    model = model.to(device)\n",
    "\n",
    "    # Test\n",
    "    preds, labels, th = src.utils.make_prediction(\n",
    "    model, test_dataloader, device,\n",
    "    cfg.label_transforms.one_hot)\n",
    "    preds_class = np.argmax(preds, axis=1)\n",
    "    accuracy = np.mean(labels == preds_class)\n",
    "    print('Accuracy: ', accuracy)"
   ]
  },
  {
   "cell_type": "code",
   "execution_count": 4,
   "metadata": {},
   "outputs": [
    {
     "name": "stdout",
     "output_type": "stream",
     "text": [
      "POIs: [[1,2,1]]\n"
     ]
    },
    {
     "name": "stderr",
     "output_type": "stream",
     "text": [
      "train loss: 8.32e-01 | test loss: 8.33e-01 | reg: 1.45e+00 : 100%|█| 7000/7000 [06:30<00:00, 17.91it\n"
     ]
    },
    {
     "name": "stdout",
     "output_type": "stream",
     "text": [
      "save this model to /workspace/notebook/results/exp3//KAN1h_2.ckpt\n",
      "Accuracy:  0.5031\n",
      "POIs: [[2,3,1]]\n"
     ]
    },
    {
     "name": "stderr",
     "output_type": "stream",
     "text": [
      "train loss: 8.33e-01 | test loss: 8.32e-01 | reg: 1.45e+00 : 100%|█| 7000/7000 [06:26<00:00, 18.12it\n"
     ]
    },
    {
     "name": "stdout",
     "output_type": "stream",
     "text": [
      "save this model to /workspace/notebook/results/exp3//KAN1h_3.ckpt\n",
      "Accuracy:  0.4965\n",
      "POIs: [[3,4,1]]\n"
     ]
    },
    {
     "name": "stderr",
     "output_type": "stream",
     "text": [
      "train loss: 8.33e-01 | test loss: 8.32e-01 | reg: 1.35e+00 : 100%|█| 7000/7000 [06:19<00:00, 18.43it\n"
     ]
    },
    {
     "name": "stdout",
     "output_type": "stream",
     "text": [
      "save this model to /workspace/notebook/results/exp3//KAN1h_4.ckpt\n",
      "Accuracy:  0.507\n",
      "POIs: [[4,5,1]]\n"
     ]
    },
    {
     "name": "stderr",
     "output_type": "stream",
     "text": [
      "train loss: 8.33e-01 | test loss: 8.33e-01 | reg: 1.43e+00 : 100%|█| 7000/7000 [06:11<00:00, 18.85it\n"
     ]
    },
    {
     "name": "stdout",
     "output_type": "stream",
     "text": [
      "save this model to /workspace/notebook/results/exp3//KAN1h_5.ckpt\n",
      "Accuracy:  0.498\n",
      "POIs: [[1,2,1],[2,3,1]]\n"
     ]
    },
    {
     "name": "stderr",
     "output_type": "stream",
     "text": [
      "train loss: 8.31e-01 | test loss: 8.30e-01 | reg: 1.96e+00 : 100%|█| 7000/7000 [06:49<00:00, 17.10it\n"
     ]
    },
    {
     "name": "stdout",
     "output_type": "stream",
     "text": [
      "save this model to /workspace/notebook/results/exp3//KAN1h_23.ckpt\n",
      "Accuracy:  0.5424\n",
      "POIs: [[1,2,1],[3,4,1]]\n"
     ]
    },
    {
     "name": "stderr",
     "output_type": "stream",
     "text": [
      "train loss: 8.32e-01 | test loss: 8.33e-01 | reg: 1.67e+00 : 100%|█| 7000/7000 [06:53<00:00, 16.93it\n"
     ]
    },
    {
     "name": "stdout",
     "output_type": "stream",
     "text": [
      "save this model to /workspace/notebook/results/exp3//KAN1h_24.ckpt\n",
      "Accuracy:  0.5069\n",
      "POIs: [[1,2,1],[4,5,1]]\n"
     ]
    },
    {
     "name": "stderr",
     "output_type": "stream",
     "text": [
      "train loss: 8.33e-01 | test loss: 8.33e-01 | reg: 1.68e+00 : 100%|█| 7000/7000 [06:46<00:00, 17.23it\n"
     ]
    },
    {
     "name": "stdout",
     "output_type": "stream",
     "text": [
      "save this model to /workspace/notebook/results/exp3//KAN1h_25.ckpt\n",
      "Accuracy:  0.4978\n",
      "POIs: [[2,3,1],[3,4,1]]\n"
     ]
    },
    {
     "name": "stderr",
     "output_type": "stream",
     "text": [
      "train loss: 8.31e-01 | test loss: 8.33e-01 | reg: 1.73e+00 : 100%|█| 7000/7000 [06:39<00:00, 17.53it\n"
     ]
    },
    {
     "name": "stdout",
     "output_type": "stream",
     "text": [
      "save this model to /workspace/notebook/results/exp3//KAN1h_34.ckpt\n",
      "Accuracy:  0.4987\n",
      "POIs: [[2,3,1],[4,5,1]]\n"
     ]
    },
    {
     "name": "stderr",
     "output_type": "stream",
     "text": [
      "train loss: 8.32e-01 | test loss: 8.33e-01 | reg: 1.72e+00 : 100%|█| 7000/7000 [06:39<00:00, 17.51it\n"
     ]
    },
    {
     "name": "stdout",
     "output_type": "stream",
     "text": [
      "save this model to /workspace/notebook/results/exp3//KAN1h_35.ckpt\n",
      "Accuracy:  0.4942\n",
      "POIs: [[3,4,1],[4,5,1]]\n"
     ]
    },
    {
     "name": "stderr",
     "output_type": "stream",
     "text": [
      "train loss: 8.31e-01 | test loss: 8.30e-01 | reg: 1.87e+00 : 100%|█| 7000/7000 [06:43<00:00, 17.34it\n"
     ]
    },
    {
     "name": "stdout",
     "output_type": "stream",
     "text": [
      "save this model to /workspace/notebook/results/exp3//KAN1h_45.ckpt\n",
      "Accuracy:  0.5373\n",
      "POIs: [[1,2,1],[2,3,1],[3,4,1]]\n"
     ]
    },
    {
     "name": "stderr",
     "output_type": "stream",
     "text": [
      "train loss: 8.29e-01 | test loss: 8.30e-01 | reg: 1.93e+00 : 100%|█| 7000/7000 [07:26<00:00, 15.66it\n"
     ]
    },
    {
     "name": "stdout",
     "output_type": "stream",
     "text": [
      "save this model to /workspace/notebook/results/exp3//KAN1h_234.ckpt\n",
      "Accuracy:  0.5383\n",
      "POIs: [[1,2,1],[2,3,1],[4,5,1]]\n"
     ]
    },
    {
     "name": "stderr",
     "output_type": "stream",
     "text": [
      "train loss: 8.27e-01 | test loss: 8.31e-01 | reg: 2.02e+00 : 100%|█| 7000/7000 [07:23<00:00, 15.78it\n"
     ]
    },
    {
     "name": "stdout",
     "output_type": "stream",
     "text": [
      "save this model to /workspace/notebook/results/exp3//KAN1h_235.ckpt\n",
      "Accuracy:  0.5407\n",
      "POIs: [[1,2,1],[3,4,1],[4,5,1]]\n"
     ]
    },
    {
     "name": "stderr",
     "output_type": "stream",
     "text": [
      "train loss: 8.31e-01 | test loss: 8.32e-01 | reg: 1.90e+00 : 100%|█| 7000/7000 [07:23<00:00, 15.78it\n"
     ]
    },
    {
     "name": "stdout",
     "output_type": "stream",
     "text": [
      "save this model to /workspace/notebook/results/exp3//KAN1h_245.ckpt\n",
      "Accuracy:  0.5394\n",
      "POIs: [[2,3,1],[3,4,1],[4,5,1]]\n"
     ]
    },
    {
     "name": "stderr",
     "output_type": "stream",
     "text": [
      "train loss: 8.31e-01 | test loss: 8.29e-01 | reg: 1.81e+00 : 100%|█| 7000/7000 [07:23<00:00, 15.78it\n"
     ]
    },
    {
     "name": "stdout",
     "output_type": "stream",
     "text": [
      "save this model to /workspace/notebook/results/exp3//KAN1h_345.ckpt\n",
      "Accuracy:  0.5425\n",
      "POIs: [[1,2,1],[2,3,1],[3,4,1],[4,5,1]]\n"
     ]
    },
    {
     "name": "stderr",
     "output_type": "stream",
     "text": [
      "train loss: 8.24e-01 | test loss: 8.29e-01 | reg: 2.20e+00 : 100%|█| 7000/7000 [08:31<00:00, 13.70it\n"
     ]
    },
    {
     "name": "stdout",
     "output_type": "stream",
     "text": [
      "save this model to /workspace/notebook/results/exp3//KAN1h_2345.ckpt\n",
      "Accuracy:  0.5586\n"
     ]
    }
   ],
   "source": [
    "import itertools\n",
    "for i in range(1,5):\n",
    "    poi_candidates = [v for v in itertools.combinations(range(1,5), i)]\n",
    "    for p in poi_candidates:\n",
    "        pois = \"\"\n",
    "        name = \"\"\n",
    "        for v in p:\n",
    "            pois += f\"[{v},{v+1},1],\"\n",
    "            name += str(v+1)\n",
    "        cfg = get_cfg(f\"[{pois[:-1]}]\", f\"{len(p)}\", name)\n",
    "        print(f\"POIs: [{pois[:-1]}]\")\n",
    "        train(cfg)"
   ]
  },
  {
   "cell_type": "code",
   "execution_count": null,
   "metadata": {},
   "outputs": [],
   "source": []
  },
  {
   "cell_type": "markdown",
   "metadata": {},
   "source": [
    "Simulation results\n",
    "\n",
    "| PoIs    | Accuracy |\n",
    "| ---     | ---      |\n",
    "| 2       | 0.5031   |\n",
    "| 3       | 0.4965   |\n",
    "| 4       | 0.507   |\n",
    "| 5       | 0.498   | \n",
    "| 2,3     | 0.5424   |\n",
    "| 2,4     | 0.5069   |\n",
    "| 2,5     | 0.4978   |\n",
    "| 3,4     | 0.4987   |\n",
    "| 3,5     | 0.4942   |\n",
    "| 4,5     | 0.5373   |\n",
    "| 2,3,4   | 0.5383   |\n",
    "| 2,3,5   | 0.5407   |\n",
    "| 2,4,5   | 0.5394   |\n",
    "| 3,4,5   | 0.5425   |\n",
    "| 2,3,4,5 | 0.5586   |"
   ]
  },
  {
   "cell_type": "markdown",
   "metadata": {},
   "source": []
  }
 ],
 "metadata": {
  "kernelspec": {
   "display_name": "base",
   "language": "python",
   "name": "python3"
  },
  "language_info": {
   "codemirror_mode": {
    "name": "ipython",
    "version": 3
   },
   "file_extension": ".py",
   "mimetype": "text/x-python",
   "name": "python",
   "nbconvert_exporter": "python",
   "pygments_lexer": "ipython3",
   "version": "3.10.14"
  }
 },
 "nbformat": 4,
 "nbformat_minor": 2
}
