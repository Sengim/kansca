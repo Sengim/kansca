{
 "cells": [
  {
   "cell_type": "markdown",
   "metadata": {},
   "source": [
    "# Exp.3 Train MLP with simulation data\n",
    "\n",
    "- Dataset: ASCADv1 simulation dataset  \n",
    "    Plain/ciphertext, key, and mask are same as ASCADv1 fixed-key dataset.  \n",
    "    Each sample point is derived from HW($snr$).\n",
    "- PoI: 1~4 pts, combination of $snr2$ to $snr5$\n",
    "- #traces: 50,000 (profiling), 20,000 (attack)\n",
    "- Preprocess: min-max mormalization to [0.0, 1.0]\n",
    "- Labeling: LSB of unmasked SBox output (two class classification)\n",
    "- Loss function: Softmax cross entropy (torch.nn.BCEWithLogitsLoss)\n",
    "- Model architecture: [1~4(Input), 70(ReLU), 50(ReLU), 2(Softmax)]  \n",
    "    This is used on DDLA paper (Timon)\n",
    "\n",
    "| $snr$ # | Leakage                            |                                         |\n",
    "| ---     | ---                                | ---                                     |\n",
    "| 2       | Masked Sbox Output                 | $SBox(p[3] \\oplus k[3]) \\oplus r_{out}$ |\n",
    "| 3       | Mask of Sbox output                | $r_{out}$                               |\n",
    "| 4       | Masked sbox output in linear part  | $SBox(p[3] \\oplus k[3]) \\oplus r[3]$    |\n",
    "| 5       | Mask of Sbox output in linear part | $r[3]$                                  |"
   ]
  },
  {
   "cell_type": "code",
   "execution_count": 1,
   "metadata": {},
   "outputs": [],
   "source": [
    "import torch\n",
    "from pathlib import Path\n",
    "import os\n",
    "import hydra\n",
    "import numpy as np\n",
    "import matplotlib.pyplot as plt\n",
    "import pickle\n",
    "\n",
    "os.chdir('/workspace')\n",
    "import src"
   ]
  },
  {
   "cell_type": "code",
   "execution_count": 2,
   "metadata": {},
   "outputs": [],
   "source": [
    "def get_cfg(pois, output_size, name):\n",
    "    with hydra.initialize(config_path=\"../conf\", version_base='1.1'):\n",
    "        cfg = hydra.compose(\n",
    "            config_name='config',\n",
    "            overrides=[\n",
    "                \"model=MLP_DDLAsim\",\n",
    "                \"model.train_params.steps=2000\",\n",
    "                \"model.name=MLP_DDLAsim\"+name,\n",
    "                \"model.train_params.batch=1000\",\n",
    "                \"dataset@train=ASCADf_profiling\",\n",
    "                \"dataset@test=ASCADf_attack\",\n",
    "                \"trace_transforms=set_poi\",\n",
    "                \"trace_transforms.transforms.0.pois=\"+pois,\n",
    "                \"trace_transforms.output_size=\"+output_size,\n",
    "                \"label_transforms=bit\",\n",
    "                \"label_transforms.transforms.3.pos=0\",\n",
    "                \"save_path=/workspace/notebook/results/exp3/3\",\n",
    "                \"n_attack_traces=2000\"\n",
    "                ]\n",
    "            )\n",
    "    return cfg"
   ]
  },
  {
   "cell_type": "code",
   "execution_count": 3,
   "metadata": {},
   "outputs": [],
   "source": [
    "def train(cfg):\n",
    "    device = hydra.utils.instantiate(cfg.device)\n",
    "    cpu = torch.device('cpu')\n",
    "\n",
    "    # Dataset\n",
    "    ds_prof = hydra.utils.instantiate(cfg.train.dataset)\n",
    "    ds_test = hydra.utils.instantiate(cfg.test.dataset)\n",
    "\n",
    "    target_byte = 2\n",
    "    profiling_dataset = src.datasets.ASCAD_sim.Dataset(\n",
    "        ds_prof.plaintext,\n",
    "        ds_prof.key,\n",
    "        ds_prof.masks,\n",
    "        target_byte=target_byte,\n",
    "        trace_transforms=hydra.utils.instantiate(\n",
    "            cfg.train.dataset.trace_transforms),\n",
    "        label_transforms=hydra.utils.instantiate(\n",
    "            cfg.train.dataset.label_transforms)\n",
    "        )\n",
    "\n",
    "    test_dataset = src.datasets.ASCAD_sim.Dataset(\n",
    "        ds_test.plaintext,\n",
    "        ds_test.key,\n",
    "        ds_test.masks,\n",
    "        target_byte=target_byte,\n",
    "            trace_transforms=hydra.utils.instantiate(\n",
    "            cfg.train.dataset.trace_transforms),\n",
    "        label_transforms=hydra.utils.instantiate(\n",
    "            cfg.train.dataset.label_transforms)\n",
    "        )\n",
    "\n",
    "    train_dataloader = torch.utils.data.DataLoader(\n",
    "        profiling_dataset, batch_size=cfg.train.batch_size, shuffle=True\n",
    "    )\n",
    "    test_dataloader = torch.utils.data.DataLoader(\n",
    "        test_dataset, batch_size=cfg.test.batch_size, shuffle=False\n",
    "    )\n",
    "\n",
    "    # Train\n",
    "    model = hydra.utils.instantiate(cfg.model.model)\n",
    "    if not Path(cfg.save_path, cfg.model_name+'.ckpt').exists():\n",
    "        model = model.to(device)\n",
    "        train_kwargs = hydra.utils.instantiate(cfg.model.train_params)\n",
    "        train_kwargs.opt = train_kwargs.opt(model.parameters())\n",
    "        _ = src.trainDNN.train(\n",
    "            model,\n",
    "            train_dataloader,\n",
    "            test_dataloader,\n",
    "            **train_kwargs\n",
    "            )\n",
    "        model = model.to(cpu)\n",
    "        Path(cfg.save_path).mkdir(exist_ok=True, parents=True)\n",
    "        torch.save(model.state_dict(), Path(cfg.save_path, cfg.model_name+'.pt'))\n",
    "    else:\n",
    "        model.load_state_dict(torch.load(\n",
    "            Path(cfg.save_path, cfg.model_name+'.pt')))\n",
    "    model = model.to(device)\n",
    "\n",
    "    # Test\n",
    "    preds, labels, th = src.utils.make_prediction(\n",
    "    model, test_dataloader, device,\n",
    "    cfg.label_transforms.one_hot)\n",
    "    preds_class = np.argmax(preds, axis=1)\n",
    "    accuracy = np.mean(labels == preds_class)\n",
    "    print('Accuracy: ', accuracy)"
   ]
  },
  {
   "cell_type": "code",
   "execution_count": 4,
   "metadata": {},
   "outputs": [
    {
     "name": "stdout",
     "output_type": "stream",
     "text": [
      "POIs: [[1,2,1]]\n"
     ]
    },
    {
     "name": "stderr",
     "output_type": "stream",
     "text": [
      "/opt/conda/lib/python3.10/site-packages/torch/nn/modules/lazy.py:181: UserWarning: Lazy modules are a new feature under heavy development so changes to the API or functionality can happen at any moment.\n",
      "  warnings.warn('Lazy modules are a new feature under heavy development '\n",
      "100%|██████████| 2000/2000 [10:37<00:00,  3.14it/s]\n"
     ]
    },
    {
     "name": "stdout",
     "output_type": "stream",
     "text": [
      "Accuracy:  0.5031\n",
      "POIs: [[2,3,1]]\n"
     ]
    },
    {
     "name": "stderr",
     "output_type": "stream",
     "text": [
      "/opt/conda/lib/python3.10/site-packages/torch/nn/modules/lazy.py:181: UserWarning: Lazy modules are a new feature under heavy development so changes to the API or functionality can happen at any moment.\n",
      "  warnings.warn('Lazy modules are a new feature under heavy development '\n",
      "100%|██████████| 2000/2000 [10:32<00:00,  3.16it/s]\n"
     ]
    },
    {
     "name": "stdout",
     "output_type": "stream",
     "text": [
      "Accuracy:  0.499\n",
      "POIs: [[3,4,1]]\n"
     ]
    },
    {
     "name": "stderr",
     "output_type": "stream",
     "text": [
      "100%|██████████| 2000/2000 [10:22<00:00,  3.21it/s]\n"
     ]
    },
    {
     "name": "stdout",
     "output_type": "stream",
     "text": [
      "Accuracy:  0.4989\n",
      "POIs: [[4,5,1]]\n"
     ]
    },
    {
     "name": "stderr",
     "output_type": "stream",
     "text": [
      "100%|██████████| 2000/2000 [10:24<00:00,  3.20it/s]\n"
     ]
    },
    {
     "name": "stdout",
     "output_type": "stream",
     "text": [
      "Accuracy:  0.4949\n",
      "POIs: [[1,2,1],[2,3,1]]\n"
     ]
    },
    {
     "name": "stderr",
     "output_type": "stream",
     "text": [
      "100%|██████████| 2000/2000 [13:52<00:00,  2.40it/s]\n"
     ]
    },
    {
     "name": "stdout",
     "output_type": "stream",
     "text": [
      "Accuracy:  0.5404\n",
      "POIs: [[1,2,1],[3,4,1]]\n"
     ]
    },
    {
     "name": "stderr",
     "output_type": "stream",
     "text": [
      "100%|██████████| 2000/2000 [13:41<00:00,  2.43it/s]\n"
     ]
    },
    {
     "name": "stdout",
     "output_type": "stream",
     "text": [
      "Accuracy:  0.5031\n",
      "POIs: [[1,2,1],[4,5,1]]\n"
     ]
    },
    {
     "name": "stderr",
     "output_type": "stream",
     "text": [
      "100%|██████████| 2000/2000 [13:35<00:00,  2.45it/s]\n"
     ]
    },
    {
     "name": "stdout",
     "output_type": "stream",
     "text": [
      "Accuracy:  0.4939\n",
      "POIs: [[2,3,1],[3,4,1]]\n"
     ]
    },
    {
     "name": "stderr",
     "output_type": "stream",
     "text": [
      "100%|██████████| 2000/2000 [13:22<00:00,  2.49it/s]\n"
     ]
    },
    {
     "name": "stdout",
     "output_type": "stream",
     "text": [
      "Accuracy:  0.5056\n",
      "POIs: [[2,3,1],[4,5,1]]\n"
     ]
    },
    {
     "name": "stderr",
     "output_type": "stream",
     "text": [
      "100%|██████████| 2000/2000 [13:31<00:00,  2.47it/s]\n"
     ]
    },
    {
     "name": "stdout",
     "output_type": "stream",
     "text": [
      "Accuracy:  0.4955\n",
      "POIs: [[3,4,1],[4,5,1]]\n"
     ]
    },
    {
     "name": "stderr",
     "output_type": "stream",
     "text": [
      "100%|██████████| 2000/2000 [13:34<00:00,  2.46it/s]\n"
     ]
    },
    {
     "name": "stdout",
     "output_type": "stream",
     "text": [
      "Accuracy:  0.5373\n",
      "POIs: [[1,2,1],[2,3,1],[3,4,1]]\n"
     ]
    },
    {
     "name": "stderr",
     "output_type": "stream",
     "text": [
      "100%|██████████| 2000/2000 [16:43<00:00,  1.99it/s]\n"
     ]
    },
    {
     "name": "stdout",
     "output_type": "stream",
     "text": [
      "Accuracy:  0.5414\n",
      "POIs: [[1,2,1],[2,3,1],[4,5,1]]\n"
     ]
    },
    {
     "name": "stderr",
     "output_type": "stream",
     "text": [
      "100%|██████████| 2000/2000 [16:53<00:00,  1.97it/s]\n"
     ]
    },
    {
     "name": "stdout",
     "output_type": "stream",
     "text": [
      "Accuracy:  0.5417\n",
      "POIs: [[1,2,1],[3,4,1],[4,5,1]]\n"
     ]
    },
    {
     "name": "stderr",
     "output_type": "stream",
     "text": [
      "100%|██████████| 2000/2000 [16:57<00:00,  1.97it/s]\n"
     ]
    },
    {
     "name": "stdout",
     "output_type": "stream",
     "text": [
      "Accuracy:  0.5347\n",
      "POIs: [[2,3,1],[3,4,1],[4,5,1]]\n"
     ]
    },
    {
     "name": "stderr",
     "output_type": "stream",
     "text": [
      "100%|██████████| 2000/2000 [16:59<00:00,  1.96it/s]\n"
     ]
    },
    {
     "name": "stdout",
     "output_type": "stream",
     "text": [
      "Accuracy:  0.5381\n",
      "POIs: [[1,2,1],[2,3,1],[3,4,1],[4,5,1]]\n"
     ]
    },
    {
     "name": "stderr",
     "output_type": "stream",
     "text": [
      "100%|██████████| 2000/2000 [19:43<00:00,  1.69it/s]\n"
     ]
    },
    {
     "name": "stdout",
     "output_type": "stream",
     "text": [
      "Accuracy:  0.5627\n"
     ]
    }
   ],
   "source": [
    "import itertools\n",
    "for i in range(1,5):\n",
    "    poi_candidates = [v for v in itertools.combinations(range(1,5), i)]\n",
    "    for p in poi_candidates:\n",
    "        pois = \"\"\n",
    "        name = \"\"\n",
    "        for v in p:\n",
    "            pois += f\"[{v},{v+1},1],\"\n",
    "            name += str(v+1)\n",
    "        cfg = get_cfg(f\"[{pois[:-1]}]\", f\"{len(p)}\", name)\n",
    "        print(f\"POIs: [{pois[:-1]}]\")\n",
    "        train(cfg)"
   ]
  },
  {
   "cell_type": "markdown",
   "metadata": {},
   "source": [
    "Simulation results\n",
    "\n",
    "| PoIs    | Accuracy |\n",
    "| ---     | ---      |\n",
    "| 2       | 0.5031   |\n",
    "| 3       | 0.4990   |\n",
    "| 4       | 0.4989   |\n",
    "| 5       | 0.4949   |\n",
    "| 2,3     | 0.5404   |\n",
    "| 2,4     | 0.5031   |\n",
    "| 2,5     | 0.4939   |\n",
    "| 3,4     | 0.5056   |\n",
    "| 3,5     | 0.4955   |\n",
    "| 4,5     | 0.5373   |\n",
    "| 2,3,4   | 0.5414   |\n",
    "| 2,3,5   | 0.5417   |\n",
    "| 2,4,5   | 0.5347   |\n",
    "| 3,4,5   | 0.5381   |\n",
    "| 2,3,4,5 | 0.5627   |"
   ]
  },
  {
   "cell_type": "markdown",
   "metadata": {},
   "source": []
  }
 ],
 "metadata": {
  "kernelspec": {
   "display_name": "base",
   "language": "python",
   "name": "python3"
  },
  "language_info": {
   "codemirror_mode": {
    "name": "ipython",
    "version": 3
   },
   "file_extension": ".py",
   "mimetype": "text/x-python",
   "name": "python",
   "nbconvert_exporter": "python",
   "pygments_lexer": "ipython3",
   "version": "3.10.14"
  }
 },
 "nbformat": 4,
 "nbformat_minor": 2
}
