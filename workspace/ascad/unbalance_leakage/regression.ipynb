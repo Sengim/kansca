{
 "cells": [
  {
   "cell_type": "code",
   "execution_count": 1,
   "metadata": {},
   "outputs": [],
   "source": [
    "import torch\n",
    "from pathlib import Path\n",
    "import os\n",
    "import hydra\n",
    "import numpy as np\n",
    "import matplotlib.pyplot as plt\n",
    "from omegaconf import OmegaConf\n",
    "import sklearn.linear_model\n",
    "\n",
    "os.chdir('/workspace')\n",
    "import src"
   ]
  },
  {
   "cell_type": "code",
   "execution_count": 2,
   "metadata": {},
   "outputs": [],
   "source": [
    "ds = 'ASCADf'\n",
    "snr = [4, 5]\n",
    "\n",
    "poi = {\n",
    "    'ASCADf': {\n",
    "        'snr4': 517,\n",
    "        'snr5': 156\n",
    "    },\n",
    "    'ASCADv': {\n",
    "        'snr4': 1071,\n",
    "        'snr5': 188\n",
    "    }\n",
    "}"
   ]
  },
  {
   "cell_type": "code",
   "execution_count": 3,
   "metadata": {},
   "outputs": [],
   "source": [
    "def calc_coeff(ds, snr, poi):\n",
    "    p = poi[ds][f'snr{snr}']\n",
    "    with hydra.initialize(config_path=\"../../conf\", version_base='1.1'):\n",
    "        cfg = hydra.compose(\n",
    "            config_name='config',\n",
    "            overrides=[\n",
    "                \"model=KAN1h\",\n",
    "                \"model.train_params.steps=5000\",\n",
    "                f\"dataset@train={ds}_profiling\",\n",
    "                f\"dataset@test={ds}_attack\",\n",
    "                \"trace_transforms=set_poi\",\n",
    "                f\"trace_transforms.transforms.0.pois=[[{p}, {p+1}, 1]]\",\n",
    "                \"trace_transforms.output_size=1\",\n",
    "                \"label_transforms=multilabel_snr\",\n",
    "                f\"label_transforms.target_snr={snr}\",\n",
    "                f\"save_path=/workspace/results/ascad/regression/{ds}/{p}\",\n",
    "                \"n_attack_traces=2000\"\n",
    "                ]\n",
    "            )\n",
    "    cfg.device = OmegaConf.create({'_target_': 'torch.device', 'device': 'cpu'})\n",
    "    device = hydra.utils.instantiate(cfg.device)\n",
    "\n",
    "    profiling_dataset = hydra.utils.instantiate(cfg.train.dataset)\n",
    "    test_dataset = hydra.utils.instantiate(cfg.test.dataset)\n",
    "\n",
    "    train_dataloader = torch.utils.data.DataLoader(\n",
    "        profiling_dataset, batch_size=cfg.train.batch_size, shuffle=True\n",
    "    )\n",
    "    test_dataloader = torch.utils.data.DataLoader(\n",
    "        test_dataset, batch_size=cfg.test.batch_size, shuffle=False\n",
    "    )\n",
    "    KANds = src.utils.to_KAN_dataset(\n",
    "        train_dataloader, test_dataloader,\n",
    "        device=device)\n",
    "\n",
    "    # Swap trace and label\n",
    "    tmp = KANds['train_input']\n",
    "    KANds['train_input'] = KANds['train_label']\n",
    "    KANds['train_label'] = tmp\n",
    "    tmp = KANds['test_input']\n",
    "    KANds['test_input'] = KANds['test_label']\n",
    "    KANds['test_label'] = tmp\n",
    "\n",
    "    model = sklearn.linear_model.LinearRegression().fit(KANds['train_input'].numpy(), KANds['train_label'].numpy())\n",
    "    score = model.score(KANds['train_input'].numpy(), KANds['train_label'].numpy())\n",
    "    coef, intercept = model.coef_, model.intercept_\n",
    "    return score, coef, intercept"
   ]
  },
  {
   "cell_type": "code",
   "execution_count": 4,
   "metadata": {},
   "outputs": [],
   "source": [
    "score = []\n",
    "coef = []\n",
    "intercept = []\n",
    "for s in snr:\n",
    "    s, c, i = calc_coeff(ds, s, poi)\n",
    "    score.append(s)\n",
    "    coef.append(c)\n",
    "    intercept.append(i)"
   ]
  },
  {
   "cell_type": "code",
   "execution_count": 5,
   "metadata": {},
   "outputs": [
    {
     "data": {
      "text/plain": [
       "array([[1.7919734 , 1.2855723 , 0.97722447, 0.8909272 , 1.4497954 ,\n",
       "        0.6249528 , 0.5523508 , 0.7360131 ]], dtype=float32)"
      ]
     },
     "execution_count": 5,
     "metadata": {},
     "output_type": "execute_result"
    }
   ],
   "source": [
    "np.abs(coef[0])+np.abs(coef[1])"
   ]
  },
  {
   "cell_type": "code",
   "execution_count": 6,
   "metadata": {},
   "outputs": [
    {
     "data": {
      "image/png": "[encoded data removed]",
      "text/plain": [
       "<Figure size 640x480 with 1 Axes>"
      ]
     },
     "metadata": {},
     "output_type": "display_data"
    }
   ],
   "source": [
    "fig = plt.figure()\n",
    "ax = fig.add_subplot(111)\n",
    "ax.plot((np.abs(coef[0])+np.abs(coef[1])).reshape(-1), '.')\n",
    "ax.set_xlabel('Target bit')\n",
    "ax.set_ylabel('Sum of coefficient of linear regression models\\nfor $snr4$ and $snr5$')\n",
    "plt.plot()\n",
    "Path(f'/workspace/results/ascad/regression/{ds}').mkdir(exist_ok=True, parents=True)\n",
    "fig.savefig(f'/workspace/results/ascad/regression/{ds}/coeffs.png', dpi=300, bbox_inches='tight')"
   ]
  },
  {
   "cell_type": "code",
   "execution_count": null,
   "metadata": {},
   "outputs": [],
   "source": []
  }
 ],
 "metadata": {
  "kernelspec": {
   "display_name": "base",
   "language": "python",
   "name": "python3"
  },
  "language_info": {
   "codemirror_mode": {
    "name": "ipython",
    "version": 3
   },
   "file_extension": ".py",
   "mimetype": "text/x-python",
   "name": "python",
   "nbconvert_exporter": "python",
   "pygments_lexer": "ipython3",
   "version": "3.10.14"
  }
 },
 "nbformat": 4,
 "nbformat_minor": 2
}
