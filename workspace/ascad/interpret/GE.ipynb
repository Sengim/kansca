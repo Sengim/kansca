{
 "cells": [
  {
   "cell_type": "markdown",
   "metadata": {},
   "source": [
    "Plot graph of guessing entropy"
   ]
  },
  {
   "cell_type": "code",
   "execution_count": null,
   "metadata": {},
   "outputs": [],
   "source": [
    "# Choose dataset to plot\n",
    "# ASCADf | ASCADv\n",
    "ds = 'ASCADv'"
   ]
  },
  {
   "cell_type": "markdown",
   "metadata": {},
   "source": [
    "----- Program codes ----"
   ]
  },
  {
   "cell_type": "code",
   "execution_count": 1,
   "metadata": {},
   "outputs": [],
   "source": [
    "import torch\n",
    "from pathlib import Path\n",
    "import os\n",
    "import hydra\n",
    "import numpy as np\n",
    "import matplotlib.pyplot as plt\n",
    "import pickle\n",
    "\n",
    "os.chdir('/workspace')\n",
    "import src\n",
    "from src import utils, sca_utils"
   ]
  },
  {
   "cell_type": "code",
   "execution_count": 3,
   "metadata": {},
   "outputs": [],
   "source": [
    "save_path = f'/workspace/results/ascad/KAN_{ds}2'\n",
    "with hydra.initialize(config_path=\"../../conf\", version_base='1.1'):\n",
    "    cfg = hydra.compose(\n",
    "        config_name='config',\n",
    "        overrides=[\n",
    "            \"model=KAN2h\",\n",
    "            \"model.model.width.1=5\",\n",
    "            \"model.model.width.2=1\",\n",
    "            \"model.train_params.steps=7000\",\n",
    "            f\"dataset@train={ds}_profiling\",\n",
    "            f\"dataset@test={ds}_attack\",\n",
    "            \"label_transforms=bit\",\n",
    "            \"label_transforms.transforms.3.pos=0\",\n",
    "            \"trace_transforms=void\",\n",
    "            f\"save_path={save_path}/0\",\n",
    "            \"n_attack_traces=2000\",\n",
    "            ]\n",
    "        )\n",
    "model = hydra.utils.instantiate(cfg.model.model)\n",
    "model.load_ckpt(cfg.model_name+'.ckpt', cfg.save_path)"
   ]
  },
  {
   "cell_type": "code",
   "execution_count": 4,
   "metadata": {},
   "outputs": [],
   "source": [
    "device = hydra.utils.instantiate(cfg.device)\n",
    "cpu = torch.device('cpu')"
   ]
  },
  {
   "cell_type": "code",
   "execution_count": 5,
   "metadata": {},
   "outputs": [],
   "source": [
    "test_dataset = hydra.utils.instantiate(cfg.test.dataset)\n",
    "test_dataloader = torch.utils.data.DataLoader(\n",
    "    test_dataset, batch_size=cfg.test.batch_size, shuffle=False\n",
    ")"
   ]
  },
  {
   "cell_type": "code",
   "execution_count": 6,
   "metadata": {},
   "outputs": [
    {
     "name": "stderr",
     "output_type": "stream",
     "text": [
      "Making label hyposesis [/key hyposesis]: 100%|██████████| 256/256 [02:09<00:00,  1.98it/s]\n"
     ]
    }
   ],
   "source": [
    "correct_key = test_dataset.key[0][cfg.target_byte]\n",
    "key_hyposesis = range(256)\n",
    "label_hyposesis = utils.make_label_hyposesis(\n",
    "    test_dataset, key_hyposesis)"
   ]
  },
  {
   "cell_type": "code",
   "execution_count": 7,
   "metadata": {},
   "outputs": [
    {
     "name": "stderr",
     "output_type": "stream",
     "text": [
      "Calculating GE [/trials]: 100%|██████████| 40/40 [00:01<00:00, 34.02it/s]\n"
     ]
    }
   ],
   "source": [
    "preds, labels, _ = utils.make_prediction(\n",
    "        model, test_dataloader, device)\n",
    "ge_KAN = sca_utils.calc_guessing_entropy(\n",
    "    preds, label_hyposesis, correct_key,\n",
    "    cfg.n_attack_traces, n_trial=cfg.n_trials)"
   ]
  },
  {
   "cell_type": "code",
   "execution_count": 8,
   "metadata": {},
   "outputs": [
    {
     "name": "stderr",
     "output_type": "stream",
     "text": [
      "/opt/conda/lib/python3.10/site-packages/torch/nn/modules/lazy.py:181: UserWarning: Lazy modules are a new feature under heavy development so changes to the API or functionality can happen at any moment.\n",
      "  warnings.warn('Lazy modules are a new feature under heavy development '\n"
     ]
    }
   ],
   "source": [
    "save_path = f'/workspace/results/ascad/MLP_{ds}'\n",
    "with hydra.initialize(config_path=\"../../conf\", version_base='1.1'):\n",
    "    cfg = hydra.compose(\n",
    "        config_name='config',\n",
    "        overrides=[\n",
    "            \"model=MLP_DDLAexp\",\n",
    "            \"model.train_params.steps=50000\",\n",
    "            f\"dataset@train={ds}_profiling\",\n",
    "            f\"dataset@test={ds}_attack\",\n",
    "            \"label_transforms=bit\",\n",
    "            \"label_transforms.transforms.3.pos=0\",\n",
    "            \"trace_transforms=void\",\n",
    "            f\"save_path={save_path}\",\n",
    "            \"n_attack_traces=2000\",\n",
    "            ]\n",
    "        )\n",
    "model = hydra.utils.instantiate(cfg.model.model)\n",
    "model.load_state_dict(torch.load(\n",
    "    Path(cfg.save_path, cfg.model_name+'.pt')))\n",
    "model = model.to(device)"
   ]
  },
  {
   "cell_type": "code",
   "execution_count": 9,
   "metadata": {},
   "outputs": [
    {
     "name": "stderr",
     "output_type": "stream",
     "text": [
      "Calculating GE [/trials]: 100%|██████████| 40/40 [00:01<00:00, 36.82it/s]\n"
     ]
    }
   ],
   "source": [
    "preds, labels, _ = utils.make_prediction(\n",
    "        model, test_dataloader, device)\n",
    "ge_MLP = sca_utils.calc_guessing_entropy(\n",
    "    preds, label_hyposesis, correct_key,\n",
    "    cfg.n_attack_traces, n_trial=cfg.n_trials)"
   ]
  },
  {
   "cell_type": "code",
   "execution_count": 10,
   "metadata": {},
   "outputs": [
    {
     "name": "stdout",
     "output_type": "stream",
     "text": [
      "[ 328  329  330 ... 1997 1998 1999]\n",
      "[ 222  223  224 ... 1997 1998 1999]\n"
     ]
    }
   ],
   "source": [
    "print(np.where(ge_KAN==0)[0])\n",
    "print(np.where(ge_MLP==0)[0])"
   ]
  },
  {
   "cell_type": "code",
   "execution_count": 15,
   "metadata": {},
   "outputs": [
    {
     "data": {
      "image/png": "[encoded data removed]",
      "text/plain": [
       "<Figure size 640x480 with 1 Axes>"
      ]
     },
     "metadata": {},
     "output_type": "display_data"
    }
   ],
   "source": [
    "# Save results\n",
    "fig = plt.figure()\n",
    "ax = fig.add_subplot(111)\n",
    "ax.plot(ge_KAN, label='KAN')\n",
    "ax.plot(ge_MLP, label='MLP')\n",
    "ax.set_xlabel('Number of traces')\n",
    "ax.set_ylabel('Guessing entropy')\n",
    "plt.legend()\n",
    "fig.savefig(Path('/workspace/results/ascad/', f'{ds}.png'), dpi=300)"
   ]
  },
  {
   "cell_type": "code",
   "execution_count": null,
   "metadata": {},
   "outputs": [],
   "source": []
  }
 ],
 "metadata": {
  "kernelspec": {
   "display_name": "base",
   "language": "python",
   "name": "python3"
  },
  "language_info": {
   "codemirror_mode": {
    "name": "ipython",
    "version": 3
   },
   "file_extension": ".py",
   "mimetype": "text/x-python",
   "name": "python",
   "nbconvert_exporter": "python",
   "pygments_lexer": "ipython3",
   "version": "3.10.14"
  }
 },
 "nbformat": 4,
 "nbformat_minor": 2
}
