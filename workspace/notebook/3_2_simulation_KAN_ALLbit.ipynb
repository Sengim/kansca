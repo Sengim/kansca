{
 "cells": [
  {
   "cell_type": "code",
   "execution_count": 1,
   "metadata": {},
   "outputs": [],
   "source": [
    "import torch\n",
    "from pathlib import Path\n",
    "import os\n",
    "import hydra\n",
    "import numpy as np\n",
    "import matplotlib.pyplot as plt\n",
    "import pickle\n",
    "\n",
    "os.chdir('/workspace')\n",
    "import src"
   ]
  },
  {
   "cell_type": "code",
   "execution_count": 2,
   "metadata": {},
   "outputs": [],
   "source": [
    "def get_cfg(pos):\n",
    "    with hydra.initialize(config_path=\"../conf\", version_base='1.1'):\n",
    "        cfg = hydra.compose(\n",
    "            config_name='config',\n",
    "            overrides=[\n",
    "                \"model=KAN2h\",\n",
    "                \"model.model.width.0=4\",\n",
    "                \"model.model.width.1=5\",\n",
    "                \"model.model.width.2=1\",\n",
    "                \"model.train_params.steps=7000\",\n",
    "                \"dataset@train=ASCADf_profiling\",\n",
    "                \"dataset@test=ASCADf_attack\",\n",
    "                \"trace_transforms=set_poi\",\n",
    "                \"trace_transforms.transforms.0.pois=[[1,5,1]]\",\n",
    "                \"label_transforms=bit\",\n",
    "                f\"label_transforms.transforms.3.pos={pos}\",\n",
    "                f\"save_path=/workspace/notebook/results/exp3/{pos}\",\n",
    "                \"n_attack_traces=2000\"\n",
    "                ]\n",
    "            )\n",
    "    return cfg"
   ]
  },
  {
   "cell_type": "code",
   "execution_count": 3,
   "metadata": {},
   "outputs": [],
   "source": [
    "def train(cfg):\n",
    "    device = hydra.utils.instantiate(cfg.device)\n",
    "    cpu = torch.device('cpu')\n",
    "\n",
    "    # Dataset\n",
    "    ds_prof = hydra.utils.instantiate(cfg.train.dataset)\n",
    "    ds_test = hydra.utils.instantiate(cfg.test.dataset)\n",
    "\n",
    "    target_byte = 2\n",
    "    profiling_dataset = src.datasets.ASCAD_sim.Dataset(\n",
    "        ds_prof.plaintext,\n",
    "        ds_prof.key,\n",
    "        ds_prof.masks,\n",
    "        target_byte=target_byte,\n",
    "        trace_transforms=hydra.utils.instantiate(\n",
    "            cfg.train.dataset.trace_transforms),\n",
    "        label_transforms=hydra.utils.instantiate(\n",
    "            cfg.train.dataset.label_transforms)\n",
    "        )\n",
    "\n",
    "    test_dataset = src.datasets.ASCAD_sim.Dataset(\n",
    "        ds_test.plaintext,\n",
    "        ds_test.key,\n",
    "        ds_test.masks,\n",
    "        target_byte=target_byte,\n",
    "            trace_transforms=hydra.utils.instantiate(\n",
    "            cfg.train.dataset.trace_transforms),\n",
    "        label_transforms=hydra.utils.instantiate(\n",
    "            cfg.train.dataset.label_transforms)\n",
    "        )\n",
    "\n",
    "    train_dataloader = torch.utils.data.DataLoader(\n",
    "        profiling_dataset, batch_size=cfg.train.batch_size, shuffle=True\n",
    "    )\n",
    "    test_dataloader = torch.utils.data.DataLoader(\n",
    "        test_dataset, batch_size=cfg.test.batch_size, shuffle=False\n",
    "    )\n",
    "    KANds = src.utils.to_KAN_dataset(\n",
    "        train_dataloader, test_dataloader,\n",
    "        device=device)\n",
    "\n",
    "    # Train\n",
    "    model = hydra.utils.instantiate(cfg.model.model)\n",
    "    if not Path(cfg.save_path, cfg.model_name+'.ckpt').exists():\n",
    "        model = model.to(device)\n",
    "        _ = model.train(\n",
    "            KANds,\n",
    "            **hydra.utils.instantiate(cfg.model.train_params)\n",
    "            )\n",
    "        Path(cfg.save_path).mkdir(exist_ok=True, parents=True)\n",
    "        model.to(cpu).save_ckpt(cfg.model_name+'.ckpt', cfg.save_path)\n",
    "    else:\n",
    "        model.load_ckpt(cfg.model_name+'.ckpt', cfg.save_path)\n",
    "    model = model.to(device)\n",
    "\n",
    "    # Test\n",
    "    preds, labels, th = src.utils.make_prediction(\n",
    "    model, test_dataloader, device,\n",
    "    cfg.label_transforms.one_hot)\n",
    "    preds_class = np.argmax(preds, axis=1)\n",
    "    accuracy = np.mean(labels == preds_class)\n",
    "    print('Accuracy: ', accuracy)"
   ]
  },
  {
   "cell_type": "code",
   "execution_count": 4,
   "metadata": {},
   "outputs": [
    {
     "name": "stderr",
     "output_type": "stream",
     "text": [
      "train loss: 8.22e-01 | test loss: 8.28e-01 | reg: 2.17e+00 : 100%|█| 7000/7000 [08:13<00:00, 14.18it\n"
     ]
    },
    {
     "name": "stdout",
     "output_type": "stream",
     "text": [
      "save this model to /workspace/notebook/results/exp3/0/KAN-2Hidden.ckpt\n",
      "Accuracy:  0.561\n"
     ]
    },
    {
     "name": "stderr",
     "output_type": "stream",
     "text": [
      "train loss: 8.32e-01 | test loss: 8.17e-01 | reg: 2.26e+00 : 100%|█| 7000/7000 [08:13<00:00, 14.19it\n"
     ]
    },
    {
     "name": "stdout",
     "output_type": "stream",
     "text": [
      "save this model to /workspace/notebook/results/exp3/1/KAN-2Hidden.ckpt\n",
      "Accuracy:  0.5548\n"
     ]
    },
    {
     "name": "stderr",
     "output_type": "stream",
     "text": [
      "train loss: 8.16e-01 | test loss: 8.27e-01 | reg: 2.25e+00 : 100%|█| 7000/7000 [08:18<00:00, 14.06it\n"
     ]
    },
    {
     "name": "stdout",
     "output_type": "stream",
     "text": [
      "save this model to /workspace/notebook/results/exp3/2/KAN-2Hidden.ckpt\n",
      "Accuracy:  0.5631\n"
     ]
    },
    {
     "name": "stderr",
     "output_type": "stream",
     "text": [
      "train loss: 8.31e-01 | test loss: 8.31e-01 | reg: 2.21e+00 : 100%|█| 7000/7000 [08:07<00:00, 14.37it\n"
     ]
    },
    {
     "name": "stdout",
     "output_type": "stream",
     "text": [
      "save this model to /workspace/notebook/results/exp3/3/KAN-2Hidden.ckpt\n",
      "Accuracy:  0.5711\n"
     ]
    },
    {
     "name": "stderr",
     "output_type": "stream",
     "text": [
      "train loss: 8.29e-01 | test loss: 8.20e-01 | reg: 2.23e+00 : 100%|█| 7000/7000 [08:09<00:00, 14.31it\n"
     ]
    },
    {
     "name": "stdout",
     "output_type": "stream",
     "text": [
      "save this model to /workspace/notebook/results/exp3/4/KAN-2Hidden.ckpt\n",
      "Accuracy:  0.5633\n"
     ]
    },
    {
     "name": "stderr",
     "output_type": "stream",
     "text": [
      "train loss: 8.17e-01 | test loss: 8.31e-01 | reg: 2.22e+00 : 100%|█| 7000/7000 [08:08<00:00, 14.32it\n"
     ]
    },
    {
     "name": "stdout",
     "output_type": "stream",
     "text": [
      "save this model to /workspace/notebook/results/exp3/5/KAN-2Hidden.ckpt\n",
      "Accuracy:  0.5504\n"
     ]
    },
    {
     "name": "stderr",
     "output_type": "stream",
     "text": [
      "train loss: 8.21e-01 | test loss: 8.21e-01 | reg: 2.28e+00 : 100%|█| 7000/7000 [08:14<00:00, 14.15it\n"
     ]
    },
    {
     "name": "stdout",
     "output_type": "stream",
     "text": [
      "save this model to /workspace/notebook/results/exp3/6/KAN-2Hidden.ckpt\n",
      "Accuracy:  0.554\n"
     ]
    },
    {
     "name": "stderr",
     "output_type": "stream",
     "text": [
      "train loss: 8.16e-01 | test loss: 8.22e-01 | reg: 2.25e+00 : 100%|█| 7000/7000 [08:19<00:00, 14.02it\n"
     ]
    },
    {
     "name": "stdout",
     "output_type": "stream",
     "text": [
      "save this model to /workspace/notebook/results/exp3/7/KAN-2Hidden.ckpt\n",
      "Accuracy:  0.5557\n"
     ]
    }
   ],
   "source": [
    "for i in range(8):\n",
    "    cfg = get_cfg(i)\n",
    "    train(cfg)"
   ]
  },
  {
   "cell_type": "markdown",
   "metadata": {},
   "source": [
    "Accuracy:  0.561  \n",
    "Accuracy:  0.5548  \n",
    "Accuracy:  0.5631  \n",
    "Accuracy:  0.5711  \n",
    "Accuracy:  0.5633  \n",
    "Accuracy:  0.5504  \n",
    "Accuracy:  0.554  \n",
    "Accuracy:  0.5557  "
   ]
  }
 ],
 "metadata": {
  "kernelspec": {
   "display_name": "base",
   "language": "python",
   "name": "python3"
  },
  "language_info": {
   "codemirror_mode": {
    "name": "ipython",
    "version": 3
   },
   "file_extension": ".py",
   "mimetype": "text/x-python",
   "name": "python",
   "nbconvert_exporter": "python",
   "pygments_lexer": "ipython3",
   "version": "3.10.14"
  }
 },
 "nbformat": 4,
 "nbformat_minor": 2
}
