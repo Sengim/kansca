{
 "cells": [
  {
   "cell_type": "markdown",
   "metadata": {},
   "source": [
    "# Exp.3 Train KAN with simulation data (all bit)\n",
    "\n",
    "- Dataset: ASCADv1 simulation dataset  \n",
    "    Plain/ciphertext, key, and mask are same as ASCADv1 fixed-key dataset.  \n",
    "    Each sample point is derived from HW($snr$).\n",
    "- PoI: 2 pts, $snr4$, $5$.\n",
    "- #traces: 50,000 (profiling), 20,000 (attack)\n",
    "- Preprocess: min-max mormalization to [0.0, 1.0]\n",
    "- Labeling:LSB bit of unmasked SBox output (two class classification)\n",
    "- Loss function: Softmax cross entropy (torch.nn.BCEWithLogitsLoss)\n",
    "- Model architecture: [2(Input), 1, 2(Softmax)]  \n",
    "\n",
    "| $snr$ # | Leakage                            |                                         |\n",
    "| ---     | ---                                | ---                                     |\n",
    "| 4       | Masked sbox output in linear part  | $SBox(p[3] \\oplus k[3]) \\oplus r[3]$    |\n",
    "| 5       | Mask of Sbox output in linear part | $r[3]$                                  |"
   ]
  },
  {
   "cell_type": "code",
   "execution_count": 1,
   "metadata": {},
   "outputs": [],
   "source": [
    "import torch\n",
    "from pathlib import Path\n",
    "import os\n",
    "import hydra\n",
    "import numpy as np\n",
    "import matplotlib.pyplot as plt\n",
    "import pickle\n",
    "\n",
    "os.chdir('/workspace')\n",
    "import src"
   ]
  },
  {
   "cell_type": "code",
   "execution_count": 2,
   "metadata": {},
   "outputs": [],
   "source": [
    "def get_cfg(pos):\n",
    "    with hydra.initialize(config_path=\"../conf\", version_base='1.1'):\n",
    "        cfg = hydra.compose(\n",
    "            config_name='config',\n",
    "            overrides=[\n",
    "                \"model=KAN1h\",\n",
    "                \"model.model.width.0=2\",\n",
    "                \"model.model.width.1=1\",\n",
    "                \"model.model.grid=10\",\n",
    "                \"model.train_params.steps=7000\",\n",
    "                \"dataset@train=ASCADf_profiling\",\n",
    "                \"dataset@test=ASCADf_attack\",\n",
    "                \"trace_transforms=set_poi\",\n",
    "                \"trace_transforms.transforms.0.pois=[[3,5,1]]\",\n",
    "                \"label_transforms=bit\",\n",
    "                f\"label_transforms.transforms.3.pos={pos}\",\n",
    "                f\"save_path=/workspace/notebook/results/exp3/4\",\n",
    "                \"n_attack_traces=2000\"\n",
    "                ]\n",
    "            )\n",
    "    return cfg"
   ]
  },
  {
   "cell_type": "code",
   "execution_count": 3,
   "metadata": {},
   "outputs": [],
   "source": [
    "def train(cfg):\n",
    "    device = hydra.utils.instantiate(cfg.device)\n",
    "    cpu = torch.device('cpu')\n",
    "\n",
    "    # Dataset\n",
    "    ds_prof = hydra.utils.instantiate(cfg.train.dataset)\n",
    "    ds_test = hydra.utils.instantiate(cfg.test.dataset)\n",
    "\n",
    "    target_byte = 2\n",
    "    profiling_dataset = src.datasets.ASCAD_sim.Dataset(\n",
    "        ds_prof.plaintext,\n",
    "        ds_prof.key,\n",
    "        ds_prof.masks,\n",
    "        target_byte=target_byte,\n",
    "        trace_transforms=hydra.utils.instantiate(\n",
    "            cfg.train.dataset.trace_transforms),\n",
    "        label_transforms=hydra.utils.instantiate(\n",
    "            cfg.train.dataset.label_transforms)\n",
    "        )\n",
    "\n",
    "    test_dataset = src.datasets.ASCAD_sim.Dataset(\n",
    "        ds_test.plaintext,\n",
    "        ds_test.key,\n",
    "        ds_test.masks,\n",
    "        target_byte=target_byte,\n",
    "            trace_transforms=hydra.utils.instantiate(\n",
    "            cfg.train.dataset.trace_transforms),\n",
    "        label_transforms=hydra.utils.instantiate(\n",
    "            cfg.train.dataset.label_transforms)\n",
    "        )\n",
    "\n",
    "    train_dataloader = torch.utils.data.DataLoader(\n",
    "        profiling_dataset, batch_size=cfg.train.batch_size, shuffle=True\n",
    "    )\n",
    "    test_dataloader = torch.utils.data.DataLoader(\n",
    "        test_dataset, batch_size=cfg.test.batch_size, shuffle=False\n",
    "    )\n",
    "    KANds = src.utils.to_KAN_dataset(\n",
    "        train_dataloader, test_dataloader,\n",
    "        device=device)\n",
    "\n",
    "    # Train\n",
    "    model = hydra.utils.instantiate(cfg.model.model)\n",
    "    if not Path(cfg.save_path, cfg.model_name+'.ckpt').exists():\n",
    "        model = model.to(device)\n",
    "        _ = model.train(\n",
    "            KANds,\n",
    "            **hydra.utils.instantiate(cfg.model.train_params)\n",
    "            )\n",
    "        Path(cfg.save_path).mkdir(exist_ok=True, parents=True)\n",
    "        model.to(cpu).save_ckpt(cfg.model_name+'.ckpt', cfg.save_path)\n",
    "    else:\n",
    "        model.load_ckpt(cfg.model_name+'.ckpt', cfg.save_path)\n",
    "    model = model.to(device)\n",
    "\n",
    "    # Test\n",
    "    preds, labels, th = src.utils.make_prediction(\n",
    "    model, test_dataloader, device,\n",
    "    cfg.label_transforms.one_hot)\n",
    "    preds_class = np.argmax(preds, axis=1)\n",
    "    accuracy = np.mean(labels == preds_class)\n",
    "    print('Accuracy: ', accuracy)\n",
    "\n",
    "    return model, KANds, test_dataset, test_dataloader, device"
   ]
  },
  {
   "cell_type": "code",
   "execution_count": 4,
   "metadata": {},
   "outputs": [
    {
     "name": "stderr",
     "output_type": "stream",
     "text": [
      "train loss: 8.27e-01 | test loss: 8.31e-01 | reg: 5.52e-01 : 100%|█| 7000/7000 [03:22<00:00, 34.54it\n"
     ]
    },
    {
     "name": "stdout",
     "output_type": "stream",
     "text": [
      "save this model to /workspace/notebook/results/exp3_dev//KAN-1Hidden.ckpt\n",
      "Accuracy:  0.5375\n"
     ]
    }
   ],
   "source": [
    "cfg = get_cfg(0)\n",
    "model, KANds, test_dataset, test_dataloader, device = train(cfg)"
   ]
  },
  {
   "cell_type": "code",
   "execution_count": 5,
   "metadata": {},
   "outputs": [
    {
     "data": {
      "image/png": "[encoded data removed]",
      "text/plain": [
       "<Figure size 500x400 with 5 Axes>"
      ]
     },
     "metadata": {},
     "output_type": "display_data"
    }
   ],
   "source": [
    "test_inputs = torch.tensor(\n",
    "    np.array([test_dataset[v][0] for v in range(cfg.n_attack_traces)])).to(device)\n",
    "_ = model(test_inputs)\n",
    "model.plot(folder=cfg.save_path+'/attack')\n",
    "plt.savefig(\n",
    "    Path(cfg.save_path, f'{cfg.model.name}_attack.png'),\n",
    "    dpi=300)\n",
    "src.utils.plot_KAN(cfg, model, 'attack')"
   ]
  },
  {
   "cell_type": "code",
   "execution_count": 6,
   "metadata": {},
   "outputs": [
    {
     "name": "stdout",
     "output_type": "stream",
     "text": [
      "r2 is 0.7467657327651978\n",
      "r2 is not very high, please double check if you are choosing the correct symbolic function.\n",
      "Best value at boundary.\n",
      "r2 is 0.7735549807548523\n",
      "r2 is not very high, please double check if you are choosing the correct symbolic function.\n"
     ]
    },
    {
     "data": {
      "text/plain": [
       "tensor(0.7736, device='cuda:0')"
      ]
     },
     "execution_count": 6,
     "metadata": {},
     "output_type": "execute_result"
    }
   ],
   "source": [
    "model.fix_symbolic(0,0,0, 'x')\n",
    "model.fix_symbolic(0,1,0, 'x')"
   ]
  },
  {
   "cell_type": "code",
   "execution_count": 7,
   "metadata": {},
   "outputs": [
    {
     "name": "stderr",
     "output_type": "stream",
     "text": [
      "train loss: 8.29e-01 | test loss: 8.29e-01 | reg: 5.76e-01 : 100%|█| 7000/7000 [03:29<00:00, 33.47it\n"
     ]
    }
   ],
   "source": [
    "_ = model.train(\n",
    "    KANds,\n",
    "    **hydra.utils.instantiate(cfg.model.train_params)\n",
    "    )"
   ]
  },
  {
   "cell_type": "code",
   "execution_count": 8,
   "metadata": {},
   "outputs": [
    {
     "name": "stdout",
     "output_type": "stream",
     "text": [
      "Accuracy:  0.5314\n"
     ]
    }
   ],
   "source": [
    "preds, labels, th = src.utils.make_prediction(\n",
    "    model, test_dataloader, device,\n",
    "    cfg.label_transforms.one_hot)\n",
    "\n",
    "preds_class = np.argmax(preds, axis=1)\n",
    "accuracy = np.mean(labels == preds_class)\n",
    "print('Accuracy: ', accuracy)"
   ]
  },
  {
   "cell_type": "code",
   "execution_count": 9,
   "metadata": {},
   "outputs": [
    {
     "data": {
      "image/png": "[encoded data removed]",
      "text/plain": [
       "<Figure size 500x400 with 5 Axes>"
      ]
     },
     "metadata": {},
     "output_type": "display_data"
    }
   ],
   "source": [
    "model(KANds['train_input'])\n",
    "model.plot()"
   ]
  }
 ],
 "metadata": {
  "kernelspec": {
   "display_name": "base",
   "language": "python",
   "name": "python3"
  },
  "language_info": {
   "codemirror_mode": {
    "name": "ipython",
    "version": 3
   },
   "file_extension": ".py",
   "mimetype": "text/x-python",
   "name": "python",
   "nbconvert_exporter": "python",
   "pygments_lexer": "ipython3",
   "version": "3.10.14"
  }
 },
 "nbformat": 4,
 "nbformat_minor": 2
}
