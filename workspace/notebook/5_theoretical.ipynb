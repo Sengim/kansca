{
 "cells": [
  {
   "cell_type": "code",
   "execution_count": 1,
   "metadata": {},
   "outputs": [],
   "source": [
    "import itertools\n",
    "import numpy as np\n",
    "from tqdm.notebook import tqdm as tqdm\n",
    "\n",
    "HW_TABLE = [bin(i).count('1') for i in range(256)]\n",
    "\n",
    "def calc_counts(n_shares):\n",
    "    \"\"\"\n",
    "    For all HW combinations, count the number of cases where the lsb is 0 and 1.\n",
    "    \"\"\"\n",
    "    counts = {}\n",
    "    for pairs in tqdm(itertools.product(range(256), repeat=n_shares), total=256**n_shares):\n",
    "        hw = [HW_TABLE[p] for p in pairs]\n",
    "        lsb = 0\n",
    "        for p in pairs:\n",
    "            lsb ^= p & 1\n",
    "        if tuple(hw) not in counts:\n",
    "            counts[tuple(hw)] = [0, 0]\n",
    "        counts[tuple(hw)][lsb] += 1\n",
    "    return counts\n",
    "\n",
    "def majority_counts(counts):\n",
    "    \"\"\"\n",
    "    For all combinations, count the number of correct answers when the majority can be selected.\n",
    "    \"\"\"\n",
    "    n_all = 0\n",
    "    n_majority = 0\n",
    "    for k in counts.keys():\n",
    "        n_all += sum(counts[k])\n",
    "        n_majority += max(counts[k])\n",
    "    return n_majority, n_all"
   ]
  },
  {
   "cell_type": "code",
   "execution_count": 3,
   "metadata": {},
   "outputs": [
    {
     "data": {
      "application/vnd.jupyter.widget-view+json": {
       "model_id": "8cf6f89fa9e24e29bb0efa302d11995c",
       "version_major": 2,
       "version_minor": 0
      },
      "text/plain": [
       "  0%|          | 0/65536 [00:00<?, ?it/s]"
      ]
     },
     "metadata": {},
     "output_type": "display_data"
    },
    {
     "name": "stdout",
     "output_type": "stream",
     "text": [
      "0.537384033203125\n"
     ]
    }
   ],
   "source": [
    "counts = calc_counts(2)\n",
    "n_majority, n_all = majority_counts(counts)\n",
    "print(n_majority / n_all)"
   ]
  },
  {
   "cell_type": "code",
   "execution_count": null,
   "metadata": {},
   "outputs": [],
   "source": []
  }
 ],
 "metadata": {
  "kernelspec": {
   "display_name": "base",
   "language": "python",
   "name": "python3"
  },
  "language_info": {
   "codemirror_mode": {
    "name": "ipython",
    "version": 3
   },
   "file_extension": ".py",
   "mimetype": "text/x-python",
   "name": "python",
   "nbconvert_exporter": "python",
   "pygments_lexer": "ipython3",
   "version": "3.10.14"
  }
 },
 "nbformat": 4,
 "nbformat_minor": 2
}
