{
 "cells": [
  {
   "cell_type": "code",
   "execution_count": 1,
   "metadata": {},
   "outputs": [],
   "source": [
    "import torch\n",
    "from pathlib import Path\n",
    "import os\n",
    "import hydra\n",
    "import numpy as np\n",
    "import matplotlib.pyplot as plt\n",
    "\n",
    "os.chdir('/workspace')\n",
    "import src"
   ]
  },
  {
   "cell_type": "code",
   "execution_count": 2,
   "metadata": {},
   "outputs": [],
   "source": [
    "def get_cfg(pos):\n",
    "    with hydra.initialize(config_path=\"../conf\", version_base='1.1'):\n",
    "        cfg = hydra.compose(\n",
    "            config_name='config',\n",
    "            overrides=[\n",
    "                \"model=KAN1h\",\n",
    "                \"model.model.width.0=2\",\n",
    "                \"model.model.width.1=1\",\n",
    "                \"model.model.grid=17\",\n",
    "                \"model.train_params.steps=3000\",\n",
    "                \"dataset@train=masking_sim\",\n",
    "                \"dataset@test=masking_sim\",\n",
    "                \"trace_transforms=void\",\n",
    "                \"label_transforms=bit_sim\",\n",
    "                f\"label_transforms.transforms.0.pos={pos}\",\n",
    "                f\"save_path=/workspace/results/simulation/KAN_All/0/grid17\",\n",
    "                ]\n",
    "            )\n",
    "    return cfg"
   ]
  },
  {
   "cell_type": "code",
   "execution_count": 3,
   "metadata": {},
   "outputs": [],
   "source": [
    "def train(cfg):\n",
    "    device = hydra.utils.instantiate(cfg.device)\n",
    "    cpu = torch.device('cpu')\n",
    "\n",
    "    # Dataset\n",
    "    profiling_dataset = hydra.utils.instantiate(cfg.train.dataset)\n",
    "    test_dataset = hydra.utils.instantiate(cfg.test.dataset)\n",
    "\n",
    "    train_dataloader = torch.utils.data.DataLoader(\n",
    "        profiling_dataset, batch_size=cfg.train.batch_size, shuffle=True\n",
    "    )\n",
    "    test_dataloader = torch.utils.data.DataLoader(\n",
    "        test_dataset, batch_size=cfg.test.batch_size, shuffle=False\n",
    "    )\n",
    "    KANds = src.utils.to_KAN_dataset(\n",
    "        train_dataloader, test_dataloader,\n",
    "        device=device)\n",
    "\n",
    "    # Train\n",
    "    model = hydra.utils.instantiate(cfg.model.model)\n",
    "    _ = model(KANds['train_input'])\n",
    "    model.fix_symbolic(0,0,0, 'x')\n",
    "    model.fix_symbolic(0,1,0, 'x')\n",
    "    model = model.to(device)\n",
    "    _ = model.train(\n",
    "        KANds,\n",
    "        **hydra.utils.instantiate(cfg.model.train_params)\n",
    "        )\n",
    "    Path(cfg.save_path).mkdir(exist_ok=True, parents=True)\n",
    "    model.to(cpu).save_ckpt(cfg.model_name+'.ckpt', cfg.save_path)\n",
    "\n",
    "    # Test\n",
    "    preds, labels, th = src.utils.make_prediction(\n",
    "    model, test_dataloader, device)\n",
    "    preds_class = np.argmax(preds, axis=1)\n",
    "    accuracy = np.mean(labels == preds_class)\n",
    "    print('Accuracy: ', accuracy)\n",
    "\n",
    "    return model, KANds, test_dataset, test_dataloader, device"
   ]
  },
  {
   "cell_type": "code",
   "execution_count": 4,
   "metadata": {},
   "outputs": [
    {
     "name": "stdout",
     "output_type": "stream",
     "text": [
      "r2 is 0.995833694934845\n",
      "r2 is 0.9952849745750427\n"
     ]
    },
    {
     "name": "stderr",
     "output_type": "stream",
     "text": [
      "train loss: 8.31e-01 | test loss: 8.24e-01 | reg: 5.45e-01 : 100%|█| 3000/3000 [02:07<00:00, 23.57it\n"
     ]
    },
    {
     "name": "stdout",
     "output_type": "stream",
     "text": [
      "save this model to /workspace/results/simulation/KAN_All/0/grid17/KAN-1Hidden.ckpt\n",
      "Accuracy:  0.530975341796875\n"
     ]
    }
   ],
   "source": [
    "cfg = get_cfg(0)\n",
    "model, KANds, test_dataset, test_dataloader, device = train(cfg)"
   ]
  },
  {
   "cell_type": "code",
   "execution_count": 6,
   "metadata": {},
   "outputs": [
    {
     "data": {
      "image/png": "[encoded data removed]",
      "text/plain": [
       "<Figure size 500x400 with 5 Axes>"
      ]
     },
     "metadata": {},
     "output_type": "display_data"
    }
   ],
   "source": [
    "_ = model(KANds['train_input'])\n",
    "model.plot(folder=cfg.save_path)\n",
    "plt.savefig(\n",
    "    Path(cfg.save_path, f'{cfg.model.name}.png'),\n",
    "    dpi=300, bbox_inches=0)\n",
    "src.utils.plot_KAN(cfg, model, 'plot')"
   ]
  },
  {
   "cell_type": "code",
   "execution_count": null,
   "metadata": {},
   "outputs": [],
   "source": []
  }
 ],
 "metadata": {
  "kernelspec": {
   "display_name": "base",
   "language": "python",
   "name": "python3"
  },
  "language_info": {
   "codemirror_mode": {
    "name": "ipython",
    "version": 3
   },
   "file_extension": ".py",
   "mimetype": "text/x-python",
   "name": "python",
   "nbconvert_exporter": "python",
   "pygments_lexer": "ipython3",
   "version": "3.10.14"
  }
 },
 "nbformat": 4,
 "nbformat_minor": 2
}
