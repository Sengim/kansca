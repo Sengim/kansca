{
 "cells": [
  {
   "cell_type": "markdown",
   "metadata": {},
   "source": [
    "# Make symbolic formula with KAN\n",
    "\n",
    "## Setup\n",
    "- Dataset: ASCADv1 (fixed key) - simulation (HW leakage)\n",
    "- Leakage: Mask of SBox output, Masked SBox output\n",
    "- KAN's width: [2, 1, 2]\n",
    "- KAN's output activation: softmax"
   ]
  },
  {
   "cell_type": "code",
   "execution_count": 1,
   "metadata": {},
   "outputs": [],
   "source": [
    "import torch\n",
    "from pathlib import Path\n",
    "import os\n",
    "import hydra\n",
    "import numpy as np\n",
    "import matplotlib.pyplot as plt\n",
    "import pickle\n",
    "\n",
    "os.chdir('/workspace')\n",
    "import src"
   ]
  },
  {
   "cell_type": "code",
   "execution_count": 2,
   "metadata": {},
   "outputs": [],
   "source": [
    "with hydra.initialize(config_path=\"../conf\", version_base='1.1'):\n",
    "    cfg = hydra.compose(\n",
    "        config_name='config',\n",
    "        overrides=[\n",
    "            \"model=KAN1h\",\n",
    "            \"model.model.width.0=2\",\n",
    "            \"model.model.width.1=1\",\n",
    "            \"model.train_params.steps=5000\",\n",
    "            \"dataset@train=ASCADf_profiling\",\n",
    "            \"dataset@test=ASCADf_attack\",\n",
    "            \"trace_transforms=set_poi\",\n",
    "            \"trace_transforms.transforms.0.pois=[[2, 3, 1],[1, 2, 1]]\",\n",
    "            \"trace_transforms.output_size=2\",\n",
    "            \"label_transforms=bit\",\n",
    "            \"label_transforms.transforms.3.pos=0\",\n",
    "            \"save_path=/workspace/results/exp4/\",\n",
    "            \"n_attack_traces=2000\"\n",
    "            ]\n",
    "        )"
   ]
  },
  {
   "cell_type": "code",
   "execution_count": 3,
   "metadata": {},
   "outputs": [],
   "source": [
    "device = hydra.utils.instantiate(cfg.device)\n",
    "cpu = torch.device('cpu')"
   ]
  },
  {
   "cell_type": "markdown",
   "metadata": {},
   "source": [
    "Setup dataset"
   ]
  },
  {
   "cell_type": "code",
   "execution_count": 4,
   "metadata": {},
   "outputs": [],
   "source": [
    "ds_prof = hydra.utils.instantiate(cfg.train.dataset)\n",
    "ds_test = hydra.utils.instantiate(cfg.test.dataset)\n",
    "\n",
    "target_byte = 2\n",
    "profiling_dataset = src.datasets.ASCAD_sim.Dataset(\n",
    "    ds_prof.plaintext,\n",
    "    ds_prof.key,\n",
    "    ds_prof.masks,\n",
    "    target_byte=target_byte,\n",
    "    trace_transforms=hydra.utils.instantiate(\n",
    "        cfg.train.dataset.trace_transforms),\n",
    "    label_transforms=hydra.utils.instantiate(\n",
    "        cfg.train.dataset.label_transforms)\n",
    "    )\n",
    "\n",
    "test_dataset = src.datasets.ASCAD_sim.Dataset(\n",
    "    ds_test.plaintext,\n",
    "    ds_test.key,\n",
    "    ds_test.masks,\n",
    "    target_byte=target_byte,\n",
    "        trace_transforms=hydra.utils.instantiate(\n",
    "        cfg.train.dataset.trace_transforms),\n",
    "    label_transforms=hydra.utils.instantiate(\n",
    "        cfg.train.dataset.label_transforms)\n",
    "    )\n",
    "\n",
    "train_dataloader = torch.utils.data.DataLoader(\n",
    "    profiling_dataset, batch_size=cfg.train.batch_size, shuffle=True\n",
    ")\n",
    "test_dataloader = torch.utils.data.DataLoader(\n",
    "    test_dataset, batch_size=cfg.test.batch_size, shuffle=False\n",
    ")\n",
    "KANds = src.utils.to_KAN_dataset(\n",
    "    train_dataloader, test_dataloader,\n",
    "    device=device)"
   ]
  },
  {
   "cell_type": "markdown",
   "metadata": {},
   "source": [
    "Train KAN"
   ]
  },
  {
   "cell_type": "code",
   "execution_count": 5,
   "metadata": {},
   "outputs": [],
   "source": [
    "model = hydra.utils.instantiate(cfg.model.model)\n",
    "if not Path(cfg.save_path, cfg.model_name+'.ckpt').exists():\n",
    "    model = model.to(device)\n",
    "    _ = model.train(\n",
    "        KANds,\n",
    "        **hydra.utils.instantiate(cfg.model.train_params)\n",
    "        )\n",
    "    Path(cfg.save_path).mkdir(exist_ok=True, parents=True)\n",
    "    model.to(cpu).save_ckpt(cfg.model_name+'.ckpt', cfg.save_path)\n",
    "else:\n",
    "    model.load_ckpt(cfg.model_name+'.ckpt', cfg.save_path)\n",
    "model = model.to(device)"
   ]
  },
  {
   "cell_type": "markdown",
   "metadata": {},
   "source": [
    "Evaluation"
   ]
  },
  {
   "cell_type": "code",
   "execution_count": 6,
   "metadata": {},
   "outputs": [
    {
     "name": "stdout",
     "output_type": "stream",
     "text": [
      "Accuracy:  0.541\n"
     ]
    }
   ],
   "source": [
    "preds, labels, th = src.utils.make_prediction(\n",
    "    model, test_dataloader, device,\n",
    "    cfg.label_transforms.one_hot)\n",
    "preds_class = np.argmax(preds, axis=1)\n",
    "accuracy = np.mean(labels == preds_class)\n",
    "print('Accuracy: ', accuracy)"
   ]
  },
  {
   "cell_type": "code",
   "execution_count": 7,
   "metadata": {},
   "outputs": [],
   "source": [
    "_ = src.utils.make_confmat(\n",
    "    preds_class, labels, accuracy, cfg.save_path)"
   ]
  },
  {
   "cell_type": "markdown",
   "metadata": {},
   "source": [
    "Calculate guessing entropy"
   ]
  },
  {
   "cell_type": "code",
   "execution_count": 8,
   "metadata": {},
   "outputs": [
    {
     "name": "stderr",
     "output_type": "stream",
     "text": [
      "Calculating GE [/trials]: 100%|██████████| 40/40 [00:01<00:00, 25.68it/s]\n"
     ]
    }
   ],
   "source": [
    "correct_key = test_dataset.key[0][cfg.target_byte]\n",
    "key_hyposesis = range(256)\n",
    "if not Path(cfg.save_path, 'label_hyposesis.npy').exists():\n",
    "    label_hyposesis = src.utils.make_label_hyposesis(\n",
    "        test_dataset, key_hyposesis, one_hot=cfg.label_transforms.one_hot)\n",
    "    np.save(Path(cfg.save_path, 'label_hyposesis.npy'), label_hyposesis)\n",
    "label_hyposesis = np.load(Path(cfg.save_path, 'label_hyposesis.npy'))\n",
    "ge = src.sca_utils.calc_guessing_entropy(\n",
    "    preds, label_hyposesis, correct_key,\n",
    "    cfg.n_attack_traces, n_trial=cfg.n_trials)"
   ]
  },
  {
   "cell_type": "code",
   "execution_count": 9,
   "metadata": {},
   "outputs": [
    {
     "data": {
      "image/png": "[encoded data removed]",
      "text/plain": [
       "<Figure size 640x480 with 1 Axes>"
      ]
     },
     "metadata": {},
     "output_type": "display_data"
    }
   ],
   "source": [
    "fig = plt.figure()\n",
    "ax = fig.add_subplot(111)\n",
    "ax.plot(ge)\n",
    "ax.set_title(f'GE@{cfg.n_attack_traces}:{ge[-1]}')\n",
    "fig.savefig(Path(cfg.save_path, f'{cfg.model.name}.png'), dpi=300)"
   ]
  },
  {
   "cell_type": "markdown",
   "metadata": {},
   "source": [
    "Plot trained KAN"
   ]
  },
  {
   "cell_type": "code",
   "execution_count": 10,
   "metadata": {},
   "outputs": [
    {
     "data": {
      "image/png": "[encoded data removed]",
      "text/plain": [
       "<Figure size 500x400 with 5 Axes>"
      ]
     },
     "metadata": {},
     "output_type": "display_data"
    }
   ],
   "source": [
    "test_inputs = torch.tensor(\n",
    "    np.array([test_dataset[v][0] for v in range(cfg.n_attack_traces)])).to(device)\n",
    "_ = model(test_inputs)\n",
    "model.plot(folder=cfg.save_path+'/attack')\n",
    "plt.savefig(\n",
    "    Path(cfg.save_path, f'{cfg.model.name}_attack.png'),\n",
    "    dpi=300)\n",
    "src.utils.plot_KAN(cfg, model, 'attack')"
   ]
  },
  {
   "cell_type": "markdown",
   "metadata": {},
   "source": [
    "Set symbolic functions"
   ]
  },
  {
   "cell_type": "code",
   "execution_count": 11,
   "metadata": {},
   "outputs": [
    {
     "name": "stdout",
     "output_type": "stream",
     "text": [
      "r2 is 0.9325804710388184\n",
      "r2 is 0.9704580903053284\n",
      "r2 is 0.9988701939582825\n",
      "r2 is 0.998882532119751\n"
     ]
    },
    {
     "data": {
      "text/plain": [
       "tensor(0.9989, device='cuda:0', grad_fn=<SelectBackward0>)"
      ]
     },
     "execution_count": 11,
     "metadata": {},
     "output_type": "execute_result"
    }
   ],
   "source": [
    "model.fix_symbolic(0,0,0, 'x')\n",
    "model.fix_symbolic(0,1,0, 'x')\n",
    "model.fix_symbolic(1,0,0, 'x^2')\n",
    "model.fix_symbolic(1,0,1, 'x^2')"
   ]
  },
  {
   "cell_type": "code",
   "execution_count": 12,
   "metadata": {},
   "outputs": [
    {
     "data": {
      "image/png": "[encoded data removed]",
      "text/plain": [
       "<Figure size 500x400 with 5 Axes>"
      ]
     },
     "metadata": {},
     "output_type": "display_data"
    }
   ],
   "source": [
    "model(KANds['train_input'])\n",
    "model.plot()"
   ]
  },
  {
   "cell_type": "markdown",
   "metadata": {},
   "source": [
    "Fine-tuning"
   ]
  },
  {
   "cell_type": "code",
   "execution_count": 13,
   "metadata": {},
   "outputs": [
    {
     "name": "stderr",
     "output_type": "stream",
     "text": [
      "description:   0%|                                                         | 0/5000 [00:00<?, ?it/s]"
     ]
    },
    {
     "name": "stderr",
     "output_type": "stream",
     "text": [
      "train loss: 8.30e-01 | test loss: 8.33e-01 | reg: 5.38e-01 : 100%|█| 5000/5000 [02:22<00:00, 34.99it\n"
     ]
    }
   ],
   "source": [
    "_ = model.train(\n",
    "    KANds,\n",
    "    **hydra.utils.instantiate(cfg.model.train_params)\n",
    "    )"
   ]
  },
  {
   "cell_type": "markdown",
   "metadata": {},
   "source": [
    "Evaluate"
   ]
  },
  {
   "cell_type": "code",
   "execution_count": 14,
   "metadata": {},
   "outputs": [
    {
     "name": "stdout",
     "output_type": "stream",
     "text": [
      "Accuracy:  0.5348\n"
     ]
    }
   ],
   "source": [
    "preds, labels, th = src.utils.make_prediction(\n",
    "    model, test_dataloader, device,\n",
    "    cfg.label_transforms.one_hot)\n",
    "\n",
    "preds_class = np.argmax(preds, axis=1)\n",
    "accuracy = np.mean(labels == preds_class)\n",
    "print('Accuracy: ', accuracy)"
   ]
  },
  {
   "cell_type": "code",
   "execution_count": 15,
   "metadata": {},
   "outputs": [
    {
     "name": "stderr",
     "output_type": "stream",
     "text": [
      "Calculating GE [/trials]: 100%|██████████| 40/40 [00:01<00:00, 34.64it/s]\n"
     ]
    }
   ],
   "source": [
    "ge = src.sca_utils.calc_guessing_entropy(\n",
    "    preds, label_hyposesis, correct_key,\n",
    "    cfg.n_attack_traces, n_trial=cfg.n_trials)"
   ]
  },
  {
   "cell_type": "code",
   "execution_count": 16,
   "metadata": {},
   "outputs": [
    {
     "data": {
      "image/png": "[encoded data removed]",
      "text/plain": [
       "<Figure size 640x480 with 1 Axes>"
      ]
     },
     "metadata": {},
     "output_type": "display_data"
    }
   ],
   "source": [
    "fig = plt.figure()\n",
    "ax = fig.add_subplot(111)\n",
    "ax.plot(ge)\n",
    "ax.set_title(f'GE@{cfg.n_attack_traces}:{ge[-1]}')\n",
    "fig.savefig(Path(cfg.save_path, f'{cfg.model.name}.png'), dpi=300)"
   ]
  },
  {
   "cell_type": "markdown",
   "metadata": {},
   "source": [
    "Make symbolic formula"
   ]
  },
  {
   "cell_type": "code",
   "execution_count": 17,
   "metadata": {},
   "outputs": [],
   "source": [
    "formula, variables = model.symbolic_formula()\n",
    "with open(Path(cfg.save_path, 'symbolic_fomula.pkl'), mode='wb') as f:\n",
    "    pickle.dump((formula, variables), f)"
   ]
  },
  {
   "cell_type": "code",
   "execution_count": 18,
   "metadata": {},
   "outputs": [
    {
     "data": {
      "text/latex": [
       "$\\displaystyle 0.13 - 2.22 \\left(- 1.0 x_{1} - 0.97 x_{2} + 1\\right)^{2}$"
      ],
      "text/plain": [
       "0.13 - 2.22*(-1.0*x_1 - 0.97*x_2 + 1)**2"
      ]
     },
     "execution_count": 18,
     "metadata": {},
     "output_type": "execute_result"
    }
   ],
   "source": [
    "formula[1]"
   ]
  },
  {
   "cell_type": "code",
   "execution_count": null,
   "metadata": {},
   "outputs": [],
   "source": []
  }
 ],
 "metadata": {
  "kernelspec": {
   "display_name": "base",
   "language": "python",
   "name": "python3"
  },
  "language_info": {
   "codemirror_mode": {
    "name": "ipython",
    "version": 3
   },
   "file_extension": ".py",
   "mimetype": "text/x-python",
   "name": "python",
   "nbconvert_exporter": "python",
   "pygments_lexer": "ipython3",
   "version": "3.10.14"
  }
 },
 "nbformat": 4,
 "nbformat_minor": 2
}
