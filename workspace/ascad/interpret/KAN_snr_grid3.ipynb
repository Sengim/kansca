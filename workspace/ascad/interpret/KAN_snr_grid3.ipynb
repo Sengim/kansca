{
 "cells": [
  {
   "cell_type": "markdown",
   "metadata": {},
   "source": [
    "Plot trained KAN and set linear function on input activations (and fine-tune)"
   ]
  },
  {
   "cell_type": "code",
   "execution_count": 1,
   "metadata": {},
   "outputs": [],
   "source": [
    "# Choose dataset to plot/symbolic fitting\n",
    "# ASCADf | ASCADv\n",
    "ds = 'ASCADf'"
   ]
  },
  {
   "cell_type": "markdown",
   "metadata": {},
   "source": [
    "----- Program codes ----"
   ]
  },
  {
   "cell_type": "code",
   "execution_count": 2,
   "metadata": {},
   "outputs": [],
   "source": [
    "import torch\n",
    "from pathlib import Path\n",
    "import os\n",
    "import hydra\n",
    "import numpy as np\n",
    "import matplotlib.pyplot as plt\n",
    "import pickle\n",
    "\n",
    "os.chdir('/workspace')\n",
    "import src"
   ]
  },
  {
   "cell_type": "code",
   "execution_count": 3,
   "metadata": {},
   "outputs": [],
   "source": [
    "if ds == 'ASCADf':\n",
    "    pt = \"[[156, 157, 1],[517, 518, 1]]\"\n",
    "elif ds == 'ASCADv':\n",
    "    pt = \"[[188, 189, 1],[1071, 1072, 1]]\""
   ]
  },
  {
   "cell_type": "code",
   "execution_count": 4,
   "metadata": {},
   "outputs": [],
   "source": [
    "with hydra.initialize(config_path=\"../../conf\", version_base='1.1'):\n",
    "    cfg = hydra.compose(\n",
    "        config_name='config',\n",
    "        overrides=[\n",
    "            \"model=KAN1h\",\n",
    "            \"model.model.width.1=1\",\n",
    "            \"model.model.grid=3\",\n",
    "            \"model.model.k=3\",\n",
    "            \"model.train_params.steps=3000\",\n",
    "            f\"dataset@train={ds}_profiling\",\n",
    "            f\"dataset@test={ds}_attack\",\n",
    "            \"trace_transforms=set_poi\",\n",
    "            f\"trace_transforms.transforms.0.pois={pt}\",\n",
    "            \"trace_transforms.output_size=2\",\n",
    "            \"label_transforms=bit\",\n",
    "            \"label_transforms.transforms.3.pos=0\",\n",
    "            f\"save_path=/workspace/results/ascad/KAN_{ds}_snr/0\",\n",
    "            \"n_attack_traces=2000\"\n",
    "            ]\n",
    "        )"
   ]
  },
  {
   "cell_type": "code",
   "execution_count": 5,
   "metadata": {},
   "outputs": [],
   "source": [
    "device = hydra.utils.instantiate(cfg.device)\n",
    "cpu = torch.device('cpu')"
   ]
  },
  {
   "cell_type": "markdown",
   "metadata": {},
   "source": [
    "Setup dataset"
   ]
  },
  {
   "cell_type": "code",
   "execution_count": 6,
   "metadata": {},
   "outputs": [],
   "source": [
    "profiling_dataset = hydra.utils.instantiate(cfg.train.dataset)\n",
    "test_dataset = hydra.utils.instantiate(cfg.test.dataset)\n",
    "\n",
    "train_dataloader = torch.utils.data.DataLoader(\n",
    "    profiling_dataset, batch_size=cfg.train.batch_size, shuffle=True\n",
    ")\n",
    "test_dataloader = torch.utils.data.DataLoader(\n",
    "    test_dataset, batch_size=cfg.test.batch_size, shuffle=False\n",
    ")\n",
    "KANds = src.utils.to_KAN_dataset(\n",
    "    train_dataloader, test_dataloader,\n",
    "    device=device)"
   ]
  },
  {
   "cell_type": "markdown",
   "metadata": {},
   "source": [
    "Train KAN"
   ]
  },
  {
   "cell_type": "code",
   "execution_count": 7,
   "metadata": {},
   "outputs": [],
   "source": [
    "model = hydra.utils.instantiate(cfg.model.model)\n",
    "model.load_ckpt(cfg.model_name+'.ckpt', cfg.save_path)\n",
    "model = model.to(device)"
   ]
  },
  {
   "cell_type": "markdown",
   "metadata": {},
   "source": [
    "Evaluation"
   ]
  },
  {
   "cell_type": "code",
   "execution_count": 8,
   "metadata": {},
   "outputs": [
    {
     "name": "stdout",
     "output_type": "stream",
     "text": [
      "Accuracy:  0.568\n"
     ]
    }
   ],
   "source": [
    "preds, labels, th = src.utils.make_prediction(\n",
    "    model, test_dataloader, device)\n",
    "preds_class = np.argmax(preds, axis=1)\n",
    "accuracy = np.mean(labels == preds_class)\n",
    "print('Accuracy: ', accuracy)"
   ]
  },
  {
   "cell_type": "markdown",
   "metadata": {},
   "source": [
    "Plot trained KAN"
   ]
  },
  {
   "cell_type": "code",
   "execution_count": 9,
   "metadata": {},
   "outputs": [
    {
     "data": {
      "image/png": "[encoded data removed]",
      "text/plain": [
       "<Figure size 500x400 with 5 Axes>"
      ]
     },
     "metadata": {},
     "output_type": "display_data"
    }
   ],
   "source": [
    "model(KANds['train_input'][:10000])\n",
    "model.plot(folder=cfg.save_path+'/raw')\n",
    "plt.savefig(\n",
    "    Path(cfg.save_path, f'{cfg.model.name}_raw.png'),\n",
    "    dpi=300, bbox_inches=0)\n",
    "src.utils.plot_KAN(cfg, model, 'raw')"
   ]
  },
  {
   "cell_type": "markdown",
   "metadata": {},
   "source": [
    "Set symbolic functions"
   ]
  },
  {
   "cell_type": "code",
   "execution_count": 10,
   "metadata": {},
   "outputs": [
    {
     "name": "stdout",
     "output_type": "stream",
     "text": [
      "r2 is 0.9459356665611267\n",
      "r2 is 0.938764750957489\n"
     ]
    },
    {
     "data": {
      "text/plain": [
       "tensor(0.9388, device='cuda:0')"
      ]
     },
     "execution_count": 10,
     "metadata": {},
     "output_type": "execute_result"
    }
   ],
   "source": [
    "model(KANds['test_input'][:10000])\n",
    "model.fix_symbolic(0,0,0, 'x')\n",
    "model.fix_symbolic(0,1,0, 'x')"
   ]
  },
  {
   "cell_type": "markdown",
   "metadata": {},
   "source": [
    "Fine-tuning"
   ]
  },
  {
   "cell_type": "code",
   "execution_count": 11,
   "metadata": {},
   "outputs": [
    {
     "name": "stderr",
     "output_type": "stream",
     "text": [
      "train loss: 8.26e-01 | test loss: 8.29e-01 | reg: 4.59e-01 : 100%|█| 3000/3000 [01:41<00:00, 29.41it\n"
     ]
    }
   ],
   "source": [
    "_ = model.train(\n",
    "    KANds,\n",
    "    **hydra.utils.instantiate(cfg.model.train_params)\n",
    "    )"
   ]
  },
  {
   "cell_type": "markdown",
   "metadata": {},
   "source": [
    "Evaluate"
   ]
  },
  {
   "cell_type": "code",
   "execution_count": 12,
   "metadata": {},
   "outputs": [
    {
     "name": "stdout",
     "output_type": "stream",
     "text": [
      "Accuracy:  0.5586\n"
     ]
    }
   ],
   "source": [
    "preds, labels, th = src.utils.make_prediction(\n",
    "    model, test_dataloader, device)\n",
    "\n",
    "preds_class = np.argmax(preds, axis=1)\n",
    "accuracy = np.mean(labels == preds_class)\n",
    "print('Accuracy: ', accuracy)"
   ]
  },
  {
   "cell_type": "code",
   "execution_count": 13,
   "metadata": {},
   "outputs": [
    {
     "data": {
      "image/png": "[encoded data removed]",
      "text/plain": [
       "<Figure size 500x400 with 5 Axes>"
      ]
     },
     "metadata": {},
     "output_type": "display_data"
    }
   ],
   "source": [
    "model(KANds['train_input'][:10000])\n",
    "model.plot(folder=cfg.save_path+'/fixed')\n",
    "plt.savefig(\n",
    "    Path(cfg.save_path, f'{cfg.model.name}_fixed.png'),\n",
    "    dpi=300, bbox_inches='tight')\n",
    "src.utils.plot_KAN(cfg, model, 'fixed')"
   ]
  },
  {
   "cell_type": "code",
   "execution_count": 14,
   "metadata": {},
   "outputs": [
    {
     "name": "stderr",
     "output_type": "stream",
     "text": [
      "Making label hyposesis [/key hyposesis]: 100%|██████████| 256/256 [02:36<00:00,  1.64it/s]\n",
      "Calculating GE [/trials]: 100%|██████████| 40/40 [00:01<00:00, 27.88it/s]"
     ]
    },
    {
     "name": "stdout",
     "output_type": "stream",
     "text": [
      "[ 803  804  805 ... 1997 1998 1999]\n"
     ]
    },
    {
     "name": "stderr",
     "output_type": "stream",
     "text": [
      "\n"
     ]
    }
   ],
   "source": [
    "correct_key = test_dataset.key[0][cfg.target_byte]\n",
    "key_hyposesis = range(256)\n",
    "if not Path(cfg.save_path, 'label_hyposesis.npy').exists():\n",
    "    label_hyposesis = src.utils.make_label_hyposesis(\n",
    "        test_dataset, key_hyposesis)\n",
    "    np.save(Path(cfg.save_path, 'label_hyposesis.npy'), label_hyposesis)\n",
    "label_hyposesis = np.load(Path(cfg.save_path, 'label_hyposesis.npy'))\n",
    "\n",
    "ge = src.sca_utils.calc_guessing_entropy(\n",
    "    preds, label_hyposesis, correct_key,\n",
    "    cfg.n_attack_traces, n_trial=cfg.n_trials)\n",
    "print(np.where(ge==0)[0])"
   ]
  },
  {
   "cell_type": "code",
   "execution_count": 15,
   "metadata": {},
   "outputs": [
    {
     "data": {
      "image/png": "[encoded data removed]",
      "text/plain": [
       "<Figure size 640x480 with 1 Axes>"
      ]
     },
     "metadata": {},
     "output_type": "display_data"
    }
   ],
   "source": [
    "fig = plt.figure()\n",
    "ax = fig.add_subplot(111)\n",
    "ax.plot(ge)\n",
    "fig.savefig(Path(cfg.save_path, f'{cfg.model.name}_fixed.png'), dpi=300, bbox_inches='tight')"
   ]
  },
  {
   "cell_type": "code",
   "execution_count": null,
   "metadata": {},
   "outputs": [],
   "source": []
  }
 ],
 "metadata": {
  "kernelspec": {
   "display_name": "base",
   "language": "python",
   "name": "python3"
  },
  "language_info": {
   "codemirror_mode": {
    "name": "ipython",
    "version": 3
   },
   "file_extension": ".py",
   "mimetype": "text/x-python",
   "name": "python",
   "nbconvert_exporter": "python",
   "pygments_lexer": "ipython3",
   "version": "3.10.14"
  }
 },
 "nbformat": 4,
 "nbformat_minor": 2
}
