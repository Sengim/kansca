{
 "cells": [
  {
   "cell_type": "markdown",
   "metadata": {},
   "source": [
    "# Exp.1 Train MLP as a baseline model\n",
    "\n",
    "- Dataset: ASCADv1 fixed-key  \n",
    "    Boolean masking (2-share), software-implementation\n",
    "- PoI: 700 pts, specified by ASCAD team (ASCAD.h5)\n",
    "- #traces: 50,000 (profiling), 20,000 (attack)\n",
    "- Preprocess: Z-score normalization\n",
    "- #attack traces to calculate GE: 2,000\n",
    "- Labeling: LSB of unmasked SBox output (two class classification)\n",
    "- Loss function: Softmax cross entropy (torch.nn.BCEWithLogitsLoss)\n",
    "- Model architecture: [700(Input), 500(Tanh)*6, 2(Softmax)]  \n",
    "    Most accurate MLP on ASCAD paper (NOT $MLP_{best}$)  \n",
    "    #output layer nodes are changed to 2."
   ]
  },
  {
   "cell_type": "code",
   "execution_count": null,
   "metadata": {},
   "outputs": [],
   "source": [
    "import torch\n",
    "from pathlib import Path\n",
    "import os\n",
    "import hydra\n",
    "import numpy as np\n",
    "import matplotlib.pyplot as plt\n",
    "import pickle\n",
    "\n",
    "os.chdir('/workspace')\n",
    "import src"
   ]
  },
  {
   "cell_type": "code",
   "execution_count": null,
   "metadata": {},
   "outputs": [],
   "source": [
    "with hydra.initialize(config_path=\"../conf\", version_base='1.1'):\n",
    "    cfg = hydra.compose(\n",
    "        config_name='config',\n",
    "        overrides=[\n",
    "            \"model=MLP_ASCAD\",\n",
    "            \"model.train_params.steps=30000\",\n",
    "            \"dataset@train=ASCADf_profiling\",\n",
    "            \"dataset@test=ASCADf_attack\",\n",
    "            \"label_transforms=bit\",\n",
    "            \"label_transforms.transforms.3.pos=0\",\n",
    "            \"trace_transforms=void\",\n",
    "            \"save_path=/workspace/notebook/results/exp1/\",\n",
    "            \"n_attack_traces=2000\",\n",
    "            ]\n",
    "        )"
   ]
  },
  {
   "cell_type": "code",
   "execution_count": null,
   "metadata": {},
   "outputs": [],
   "source": [
    "device = hydra.utils.instantiate(cfg.device)\n",
    "cpu = torch.device('cpu')"
   ]
  },
  {
   "cell_type": "code",
   "execution_count": null,
   "metadata": {},
   "outputs": [],
   "source": [
    "profiling_dataset = hydra.utils.instantiate(cfg.train.dataset)\n",
    "test_dataset = hydra.utils.instantiate(cfg.test.dataset)\n",
    "\n",
    "train_dataloader = torch.utils.data.DataLoader(\n",
    "    profiling_dataset, batch_size=cfg.train.batch_size, shuffle=True\n",
    ")\n",
    "test_dataloader = torch.utils.data.DataLoader(\n",
    "    test_dataset, batch_size=cfg.test.batch_size, shuffle=False\n",
    ")"
   ]
  },
  {
   "cell_type": "code",
   "execution_count": null,
   "metadata": {},
   "outputs": [],
   "source": [
    "model = hydra.utils.instantiate(cfg.model.model)\n",
    "model = model.to(device)"
   ]
  },
  {
   "cell_type": "code",
   "execution_count": null,
   "metadata": {},
   "outputs": [],
   "source": [
    "train_kwargs = hydra.utils.instantiate(cfg.model.train_params)\n",
    "train_kwargs.opt = train_kwargs.opt(model.parameters())\n",
    "_ = src.trainDNN.train(\n",
    "    model,\n",
    "    train_dataloader,\n",
    "    test_dataloader,\n",
    "    **train_kwargs\n",
    "    )\n",
    "model = model.to(cpu)"
   ]
  },
  {
   "cell_type": "code",
   "execution_count": null,
   "metadata": {},
   "outputs": [],
   "source": [
    "print(\n",
    "    f'[INFO] Save trained model to {cfg.save_path}/{cfg.model_name}.pt')\n",
    "Path(cfg.save_path).mkdir(exist_ok=True, parents=True)\n",
    "torch.save(model.state_dict(), Path(cfg.save_path, cfg.model_name+'.pt'))"
   ]
  },
  {
   "cell_type": "code",
   "execution_count": null,
   "metadata": {},
   "outputs": [],
   "source": [
    "preds, labels, th = src.utils.make_prediction(\n",
    "    model, test_dataloader, device,\n",
    "    cfg.label_transforms.one_hot)\n",
    "preds_class = np.argmax(preds, axis=1)\n",
    "accuracy = np.mean(labels == preds_class)\n",
    "print(accuracy)"
   ]
  },
  {
   "cell_type": "code",
   "execution_count": null,
   "metadata": {},
   "outputs": [],
   "source": [
    "preds, labels, th = src.utils.make_prediction(\n",
    "    model, test_dataloader, device,\n",
    "    cfg.label_transforms.one_hot)\n",
    "correct_key = test_dataset.key[0][cfg.target_byte]\n",
    "key_hyposesis = range(256)\n",
    "if not Path(cfg.save_path, 'label_hyposesis.npy').exists():\n",
    "    label_hyposesis = src.utils.make_label_hyposesis(\n",
    "        test_dataset, key_hyposesis, one_hot=cfg.label_transforms.one_hot)\n",
    "    np.save(Path(cfg.save_path, 'label_hyposesis.npy'), label_hyposesis)\n",
    "label_hyposesis = np.load(Path(cfg.save_path, 'label_hyposesis.npy'))\n",
    "ge = src.sca_utils.calc_guessing_entropy(\n",
    "    preds, label_hyposesis, correct_key,\n",
    "    cfg.n_attack_traces, n_trial=cfg.n_trials)\n",
    "\n",
    "fig = plt.figure()\n",
    "ax = fig.add_subplot(111)\n",
    "ax.plot(ge)\n",
    "ax.set_title(f'GE@{cfg.n_attack_traces}:{ge[-1]}')\n",
    "fig.savefig(Path(cfg.save_path, f'{cfg.model.name}.png'), dpi=300)"
   ]
  }
 ],
 "metadata": {
  "kernelspec": {
   "display_name": "base",
   "language": "python",
   "name": "python3"
  },
  "language_info": {
   "codemirror_mode": {
    "name": "ipython",
    "version": 3
   },
   "file_extension": ".py",
   "mimetype": "text/x-python",
   "name": "python",
   "nbconvert_exporter": "python",
   "pygments_lexer": "ipython3",
   "version": "3.10.14"
  }
 },
 "nbformat": 4,
 "nbformat_minor": 2
}
