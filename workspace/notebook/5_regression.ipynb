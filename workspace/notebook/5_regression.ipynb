{
 "cells": [
  {
   "cell_type": "markdown",
   "metadata": {},
   "source": [
    "# Exp.4 Linear regression to derive unbalanced power contribution of each line on data bus\n",
    "\n",
    "- Dataset: ASCADv1 fixed key\n",
    "- Input: 8 variables, each bit of chosen $snr$.\n",
    "- #samples: 50,000\n",
    "- Target: observed trace's amplitude on highest SNR indice corresponding to $snr2$ to $snr5$\n",
    "- Target preprocess: Z-score mormalization\n",
    "- Model: Linear regression (sklearn.linear_model.LinearRegression)\n",
    "\n",
    "| $snr$ # | Index |\n",
    "| ---     | ---   |\n",
    "| 2       | 492   |\n",
    "| 3       | 149   |\n",
    "| 4       | 517   |\n",
    "| 5       | 156   |"
   ]
  },
  {
   "cell_type": "code",
   "execution_count": 1,
   "metadata": {},
   "outputs": [],
   "source": [
    "import torch\n",
    "from pathlib import Path\n",
    "import os\n",
    "import hydra\n",
    "import numpy as np\n",
    "import matplotlib.pyplot as plt\n",
    "import pickle\n",
    "import kan\n",
    "\n",
    "os.chdir('/workspace')\n",
    "import src"
   ]
  },
  {
   "cell_type": "code",
   "execution_count": 2,
   "metadata": {},
   "outputs": [],
   "source": [
    "p = 156\n",
    "snr = 5\n",
    "with hydra.initialize(config_path=\"../conf\", version_base='1.1'):\n",
    "    cfg = hydra.compose(\n",
    "        config_name='config',\n",
    "        overrides=[\n",
    "            \"model=KAN1h_reg\",\n",
    "            \"model.train_params.steps=5000\",\n",
    "            \"dataset@train=ASCADf_profiling\",\n",
    "            \"dataset@test=ASCADf_attack\",\n",
    "            \"trace_transforms=set_poi\",\n",
    "            f\"trace_transforms.transforms.0.pois=[[{p}, {p+1}, 1]]\",\n",
    "            \"trace_transforms.output_size=1\",\n",
    "            \"label_transforms=multilabel_snr\",\n",
    "            f\"label_transforms.target_snr={snr}\",\n",
    "            f\"save_path=/workspace/notebook/results/exp5/{p}\",\n",
    "            \"n_attack_traces=2000\"\n",
    "            ]\n",
    "        )"
   ]
  },
  {
   "cell_type": "code",
   "execution_count": 3,
   "metadata": {},
   "outputs": [],
   "source": [
    "device = torch.device('cuda')\n",
    "cpu = torch.device('cpu')"
   ]
  },
  {
   "cell_type": "code",
   "execution_count": 4,
   "metadata": {},
   "outputs": [],
   "source": [
    "profiling_dataset = hydra.utils.instantiate(cfg.train.dataset)\n",
    "test_dataset = hydra.utils.instantiate(cfg.test.dataset)\n",
    "\n",
    "train_dataloader = torch.utils.data.DataLoader(\n",
    "    profiling_dataset, batch_size=cfg.train.batch_size, shuffle=True\n",
    ")\n",
    "test_dataloader = torch.utils.data.DataLoader(\n",
    "    test_dataset, batch_size=cfg.test.batch_size, shuffle=False\n",
    ")\n",
    "KANds = src.utils.to_KAN_dataset(\n",
    "    train_dataloader, test_dataloader,\n",
    "    device=device)"
   ]
  },
  {
   "cell_type": "code",
   "execution_count": 5,
   "metadata": {},
   "outputs": [],
   "source": [
    "# Swap trace and label\n",
    "tmp = KANds['train_input']\n",
    "KANds['train_input'] = KANds['train_label']\n",
    "KANds['train_label'] = tmp\n",
    "tmp = KANds['test_input']\n",
    "KANds['test_input'] = KANds['test_label']\n",
    "KANds['test_label'] = tmp"
   ]
  },
  {
   "cell_type": "code",
   "execution_count": 6,
   "metadata": {},
   "outputs": [
    {
     "data": {
      "text/plain": [
       "device(type='cuda', index=0)"
      ]
     },
     "execution_count": 6,
     "metadata": {},
     "output_type": "execute_result"
    }
   ],
   "source": [
    "KANds['train_input'].device"
   ]
  },
  {
   "cell_type": "code",
   "execution_count": 7,
   "metadata": {},
   "outputs": [],
   "source": [
    "import sklearn\n",
    "model = sklearn.linear_model.LinearRegression().fit(KANds['train_input'].to(cpu).numpy(), KANds['train_label'].to(cpu).numpy())"
   ]
  },
  {
   "cell_type": "code",
   "execution_count": 8,
   "metadata": {},
   "outputs": [
    {
     "data": {
      "text/plain": [
       "0.5522077679634094"
      ]
     },
     "execution_count": 8,
     "metadata": {},
     "output_type": "execute_result"
    }
   ],
   "source": [
    "model.score(KANds['train_input'].to(cpu).numpy(), KANds['train_label'].to(cpu).numpy())"
   ]
  },
  {
   "cell_type": "code",
   "execution_count": 9,
   "metadata": {},
   "outputs": [
    {
     "data": {
      "text/plain": [
       "(array([[0.8748629 , 0.92139566, 0.32826728, 0.52907753, 0.29187694,\n",
       "         0.22176011, 0.2137754 , 0.20110516]], dtype=float32),\n",
       " array([-1.7891475], dtype=float32))"
      ]
     },
     "execution_count": 9,
     "metadata": {},
     "output_type": "execute_result"
    }
   ],
   "source": [
    "model.coef_, model.intercept_"
   ]
  },
  {
   "cell_type": "code",
   "execution_count": 10,
   "metadata": {},
   "outputs": [
    {
     "data": {
      "text/plain": [
       "-3.3149718e-08"
      ]
     },
     "execution_count": 10,
     "metadata": {},
     "output_type": "execute_result"
    }
   ],
   "source": [
    "y = model.predict(KANds['train_input'].to(cpu).numpy())\n",
    "t = KANds['train_label'].to(cpu).numpy()\n",
    "loss = np.mean(y-t)\n",
    "loss"
   ]
  },
  {
   "cell_type": "code",
   "execution_count": 11,
   "metadata": {},
   "outputs": [
    {
     "data": {
      "text/plain": [
       "[<matplotlib.lines.Line2D at 0x7f5b4e11f4f0>]"
      ]
     },
     "execution_count": 11,
     "metadata": {},
     "output_type": "execute_result"
    },
    {
     "data": {
      "image/png": "[encoded data removed]",
      "text/plain": [
       "<Figure size 640x480 with 1 Axes>"
      ]
     },
     "metadata": {},
     "output_type": "display_data"
    }
   ],
   "source": [
    "plt.plot(np.abs(model.coef_.reshape(-1)), '.')"
   ]
  },
  {
   "cell_type": "code",
   "execution_count": null,
   "metadata": {},
   "outputs": [],
   "source": []
  }
 ],
 "metadata": {
  "kernelspec": {
   "display_name": "base",
   "language": "python",
   "name": "python3"
  },
  "language_info": {
   "codemirror_mode": {
    "name": "ipython",
    "version": 3
   },
   "file_extension": ".py",
   "mimetype": "text/x-python",
   "name": "python",
   "nbconvert_exporter": "python",
   "pygments_lexer": "ipython3",
   "version": "3.10.14"
  }
 },
 "nbformat": 4,
 "nbformat_minor": 2
}
