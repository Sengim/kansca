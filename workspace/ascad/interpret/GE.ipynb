{
 "cells": [
  {
   "cell_type": "markdown",
   "metadata": {},
   "source": [
    "Plot graph of guessing entropy"
   ]
  },
  {
   "cell_type": "code",
   "execution_count": 1,
   "metadata": {},
   "outputs": [],
   "source": [
    "# Choose dataset to plot\n",
    "# ASCADf | ASCADv\n",
    "ds = 'ASCADv'"
   ]
  },
  {
   "cell_type": "markdown",
   "metadata": {},
   "source": [
    "----- Program codes ----"
   ]
  },
  {
   "cell_type": "code",
   "execution_count": 2,
   "metadata": {},
   "outputs": [],
   "source": [
    "import torch\n",
    "from pathlib import Path\n",
    "import os\n",
    "import hydra\n",
    "import numpy as np\n",
    "import matplotlib.pyplot as plt\n",
    "import pickle\n",
    "\n",
    "os.chdir('/workspace')\n",
    "import src\n",
    "from src import utils, sca_utils"
   ]
  },
  {
   "cell_type": "code",
   "execution_count": 3,
   "metadata": {},
   "outputs": [],
   "source": [
    "save_path = f'/workspace/results/ascad/KAN_{ds}'\n",
    "with hydra.initialize(config_path=\"../../conf\", version_base='1.1'):\n",
    "    cfg = hydra.compose(\n",
    "        config_name='config',\n",
    "        overrides=[\n",
    "            \"model=KAN2h\",\n",
    "            \"model.model.width.1=5\",\n",
    "            \"model.model.width.2=1\",\n",
    "            \"model.train_params.steps=7000\",\n",
    "            f\"dataset@train={ds}_profiling\",\n",
    "            f\"dataset@test={ds}_attack\",\n",
    "            \"label_transforms=bit\",\n",
    "            \"label_transforms.transforms.3.pos=0\",\n",
    "            \"trace_transforms=void\",\n",
    "            f\"save_path={save_path}/0\",\n",
    "            \"n_attack_traces=2000\",\n",
    "            ]\n",
    "        )\n",
    "model = hydra.utils.instantiate(cfg.model.model)\n",
    "model.load_ckpt(cfg.model_name+'.ckpt', cfg.save_path)"
   ]
  },
  {
   "cell_type": "code",
   "execution_count": 4,
   "metadata": {},
   "outputs": [],
   "source": [
    "device = hydra.utils.instantiate(cfg.device)\n",
    "cpu = torch.device('cpu')"
   ]
  },
  {
   "cell_type": "code",
   "execution_count": 5,
   "metadata": {},
   "outputs": [],
   "source": [
    "test_dataset = hydra.utils.instantiate(cfg.test.dataset)\n",
    "test_dataloader = torch.utils.data.DataLoader(\n",
    "    test_dataset, batch_size=cfg.test.batch_size, shuffle=False\n",
    ")"
   ]
  },
  {
   "cell_type": "code",
   "execution_count": 6,
   "metadata": {},
   "outputs": [
    {
     "name": "stderr",
     "output_type": "stream",
     "text": [
      "Making label hyposesis [/key hyposesis]:  65%|██████▌   | 167/256 [15:44<08:15,  5.57s/it]"
     ]
    }
   ],
   "source": [
    "correct_key = test_dataset.key[0][cfg.target_byte]\n",
    "key_hyposesis = range(256)\n",
    "label_hyposesis = utils.make_label_hyposesis(\n",
    "    test_dataset, key_hyposesis)"
   ]
  },
  {
   "cell_type": "code",
   "execution_count": null,
   "metadata": {},
   "outputs": [],
   "source": [
    "preds, labels, _ = utils.make_prediction(\n",
    "        model, test_dataloader, device)\n",
    "ge_KAN = sca_utils.calc_guessing_entropy(\n",
    "    preds, label_hyposesis, correct_key,\n",
    "    cfg.n_attack_traces, n_trial=cfg.n_trials)"
   ]
  },
  {
   "cell_type": "code",
   "execution_count": null,
   "metadata": {},
   "outputs": [],
   "source": [
    "save_path = f'/workspace/results/ascad/MLP_{ds}'\n",
    "with hydra.initialize(config_path=\"../../conf\", version_base='1.1'):\n",
    "    cfg = hydra.compose(\n",
    "        config_name='config',\n",
    "        overrides=[\n",
    "            \"model=MLP_DDLAexp\",\n",
    "            \"model.train_params.steps=50000\",\n",
    "            f\"dataset@train={ds}_profiling\",\n",
    "            f\"dataset@test={ds}_attack\",\n",
    "            \"label_transforms=bit\",\n",
    "            \"label_transforms.transforms.3.pos=0\",\n",
    "            \"trace_transforms=void\",\n",
    "            f\"save_path={save_path}\",\n",
    "            \"n_attack_traces=2000\",\n",
    "            ]\n",
    "        )\n",
    "model = hydra.utils.instantiate(cfg.model.model)\n",
    "model.load_state_dict(torch.load(\n",
    "    Path(cfg.save_path, cfg.model_name+'.pt')))\n",
    "model = model.to(device)"
   ]
  },
  {
   "cell_type": "code",
   "execution_count": null,
   "metadata": {},
   "outputs": [],
   "source": [
    "preds, labels, _ = utils.make_prediction(\n",
    "        model, test_dataloader, device)\n",
    "ge_MLP = sca_utils.calc_guessing_entropy(\n",
    "    preds, label_hyposesis, correct_key,\n",
    "    cfg.n_attack_traces, n_trial=cfg.n_trials)"
   ]
  },
  {
   "cell_type": "code",
   "execution_count": null,
   "metadata": {},
   "outputs": [],
   "source": [
    "print(np.where(ge_KAN==0)[0])\n",
    "print(np.where(ge_MLP==0)[0])"
   ]
  },
  {
   "cell_type": "code",
   "execution_count": null,
   "metadata": {},
   "outputs": [],
   "source": [
    "# Save results\n",
    "fig = plt.figure()\n",
    "ax = fig.add_subplot(111)\n",
    "ax.plot(ge_KAN, label='KAN')\n",
    "ax.plot(ge_MLP, label='MLP')\n",
    "ax.set_xlabel('Number of traces')\n",
    "ax.set_ylabel('Guessing entropy')\n",
    "plt.legend()\n",
    "fig.savefig(Path('/workspace/results/ascad/', f'{ds}_GE.png'), dpi=300, bbox_inches='tight')"
   ]
  },
  {
   "cell_type": "code",
   "execution_count": null,
   "metadata": {},
   "outputs": [],
   "source": []
  }
 ],
 "metadata": {
  "kernelspec": {
   "display_name": "base",
   "language": "python",
   "name": "python3"
  },
  "language_info": {
   "codemirror_mode": {
    "name": "ipython",
    "version": 3
   },
   "file_extension": ".py",
   "mimetype": "text/x-python",
   "name": "python",
   "nbconvert_exporter": "python",
   "pygments_lexer": "ipython3",
   "version": "3.10.14"
  }
 },
 "nbformat": 4,
 "nbformat_minor": 2
}
